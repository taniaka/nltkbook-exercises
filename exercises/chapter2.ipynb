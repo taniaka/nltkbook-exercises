{
 "cells": [
  {
   "cell_type": "markdown",
   "metadata": {},
   "source": [
    "# NTLK BOOK. Chapter 2."
   ]
  },
  {
   "cell_type": "code",
   "execution_count": 37,
   "metadata": {},
   "outputs": [
    {
     "name": "stdout",
     "output_type": "stream",
     "text": [
      "Pretty printing has been turned OFF\n"
     ]
    }
   ],
   "source": [
    "%pprint"
   ]
  },
  {
   "cell_type": "code",
   "execution_count": 16,
   "metadata": {
    "collapsed": true
   },
   "outputs": [],
   "source": [
    "import nltk\n",
    "from nltk.corpus import state_union, brown, stopwords, gutenberg, wordnet as wn, nps_chat, udhr, names\n",
    "from nltk import Text, FreqDist, ConditionalFreqDist, ConcordanceIndex\n",
    "\n",
    "from matplotlib import pyplot\n",
    "import random"
   ]
  },
  {
   "cell_type": "markdown",
   "metadata": {},
   "source": [
    "Definimos unas variables que utilizarán en varios ejercicios del capítulo."
   ]
  },
  {
   "cell_type": "code",
   "execution_count": 3,
   "metadata": {},
   "outputs": [],
   "source": [
    "punctuation = \". , : ; ! ? - < > ' ''  ` `` -- .' ,' ?' !' * --'\".split() +\\\n",
    "',\" .\" ?\" !\" \"'.split()\n",
    "stops = nltk.corpus.stopwords.words('english')\n",
    "stops_punct = stops + punctuation"
   ]
  },
  {
   "cell_type": "markdown",
   "metadata": {},
   "source": [
    "### Exercise 4."
   ]
  },
  {
   "cell_type": "markdown",
   "metadata": {},
   "source": [
    "Read in the texts of the State of the Union addresses, using the state_union corpus reader. Count occurrences of men, women, and people in each document. What has happened to the usage of these words over time?"
   ]
  },
  {
   "cell_type": "code",
   "execution_count": 54,
   "metadata": {},
   "outputs": [
    {
     "name": "stdout",
     "output_type": "stream",
     "text": [
      "        men people  women \n",
      "1945      2     10      2 \n",
      "1946     12     49      7 \n",
      "1947      7     12      2 \n",
      "1948      5     22      1 \n",
      "1949      2     15      1 \n",
      "1950      6     15      2 \n",
      "1951      8     10      2 \n",
      "1953      3     17      0 \n",
      "1954      2     15      0 \n",
      "1955      4     26      0 \n",
      "1956      2     30      2 \n",
      "1957      5     11      2 \n",
      "1958      2     19      1 \n",
      "1959      4     11      1 \n",
      "1960      2     10      0 \n",
      "1961      6     10      0 \n",
      "1962      6     10      2 \n",
      "1963      8     15      5 \n",
      "1964      3      3      1 \n",
      "1965     19     30      3 \n",
      "1966     12     35      1 \n",
      "1967     11     25      1 \n",
      "1968      4     17      0 \n",
      "1969      5      6      2 \n",
      "1970      2     23      0 \n",
      "1971      1     32      0 \n",
      "1972      1      7      0 \n",
      "1973      1      9      0 \n",
      "1974      0     20      0 \n",
      "1975      0     14      0 \n",
      "1976      3     18      1 \n",
      "1977      2     19      1 \n",
      "1978      0     26      1 \n",
      "1979      0     15      1 \n",
      "1980      1     12      2 \n",
      "1981      1     11      1 \n",
      "1982      1     17      2 \n",
      "1983      3     19      7 \n",
      "1984      3     27      5 \n",
      "1985      1     12      1 \n",
      "1986      2     14      2 \n",
      "1987      1     24      0 \n",
      "1988      1     17      0 \n",
      "1989      2     13      3 \n",
      "1990      3      9      2 \n",
      "1991      9     27      9 \n",
      "1992      4     27      4 \n",
      "1993      1     45      2 \n",
      "1994      1     66      1 \n",
      "1995      1     73      3 \n",
      "1996      2     43      3 \n",
      "1997      1     31      2 \n",
      "1998      2     22      2 \n",
      "1999      2     22      3 \n",
      "2000      5     41      7 \n",
      "2001      4     27      6 \n",
      "2002      3     14      6 \n",
      "2003      6     33      4 \n",
      "2004      7     21      8 \n",
      "2005      8     18     11 \n",
      "2006      7     22      7 \n"
     ]
    }
   ],
   "source": [
    "su_cfd = ConditionalFreqDist(\n",
    "          (fileid[:4], target)\n",
    "          for fileid in state_union.fileids()\n",
    "          for word in state_union.words(fileid)\n",
    "          for target in ['men', 'women', 'people']          \n",
    "          if word.lower()== target          \n",
    ")\n",
    "su_cfd.tabulate()"
   ]
  },
  {
   "cell_type": "markdown",
   "metadata": {},
   "source": [
    "\"People\" siempre ha sido más usado que \"men\" and \"women\".  \n",
    "\n",
    "Antes de los finales de los 70, \"men\" era un poco más frecuente que \"women\", ya que en algunas ocasiones se utilizaba en lugar de \"people\".Sobre todo esto se nota en los discursos del presidente Johnson de los años 1965-1967.  \n",
    "\n",
    "A partir del 1978 y salvo alguna excepción, \"women\" es más usado que \"men\", ya que se menciona en el contexto de discriminación.   \n",
    "\n",
    "El pequeño repunte de \"men\" and \"women\" (en comparación con el uso de \"people\") en los años 2004-2006, durante el mandato de George W. Bush, podría tener que ver tanto con las preferencias lingüísticas del presidente como con la guerra en Irak, ya que en varias ocasiones \"our men and women\" se usa para referirse a los soldados luchando en Irak."
   ]
  },
  {
   "cell_type": "markdown",
   "metadata": {},
   "source": [
    "### Exercise 5"
   ]
  },
  {
   "cell_type": "markdown",
   "metadata": {},
   "source": [
    "Investigate the holonym-meronym relations for some nouns. Remember that there are three kinds of holonym-meronym relation, so you need to use: member_meronyms(), part_meronyms(), substance_meronyms(), member_holonyms(), part_holonyms(), and substance_holonyms()."
   ]
  },
  {
   "cell_type": "code",
   "execution_count": 7,
   "metadata": {},
   "outputs": [
    {
     "name": "stdout",
     "output_type": "stream",
     "text": [
      "nose.n.01 \t the organ of smell and entrance to the respiratory tract; the prominent part of the face of man or other mammals\n",
      "is member of [] \n",
      "its members are []\n",
      "is part of [Synset('face.n.01'), Synset('upper_respiratory_tract.n.01')] \n",
      "its parts are [Synset('bridge.n.04'), Synset('ethmoidal_artery.n.01'), Synset('internasal_suture.n.01'), Synset('nasal_cavity.n.01'), Synset('nostril.n.01'), Synset('turbinate_bone.n.01')]\n",
      "is as a substance used in [] \n",
      "is made of the following substances []\n",
      "\n",
      "\n",
      "telephone.n.01 \t electronic equipment that converts sound into electrical signals that can be transmitted over distances and then converts received signals back into sounds\n",
      "is member of [] \n",
      "its members are []\n",
      "is part of [Synset('telephone_system.n.01')] \n",
      "its parts are [Synset('mouthpiece.n.02'), Synset('telephone_receiver.n.01')]\n",
      "is as a substance used in [] \n",
      "is made of the following substances []\n",
      "\n",
      "\n",
      "tree.n.01 \t a tall perennial woody plant having a main trunk and branches forming a distinct elevated crown; includes both gymnosperms and angiosperms\n",
      "is member of [Synset('forest.n.01')] \n",
      "its members are []\n",
      "is part of [] \n",
      "its parts are [Synset('burl.n.02'), Synset('crown.n.07'), Synset('limb.n.02'), Synset('stump.n.01'), Synset('trunk.n.01')]\n",
      "is as a substance used in [] \n",
      "is made of the following substances [Synset('heartwood.n.01'), Synset('sapwood.n.01')]\n",
      "\n",
      "\n",
      "water.n.01 \t binary compound that occurs at room temperature as a clear colorless odorless tasteless liquid; freezes into ice below 0 degrees centigrade and boils above 100 degrees centigrade; widely used as a solvent\n",
      "is member of [] \n",
      "its members are []\n",
      "is part of [] \n",
      "its parts are []\n",
      "is as a substance used in [Synset('body_of_water.n.01'), Synset('ice.n.01'), Synset('ice_crystal.n.01'), Synset('perspiration.n.01'), Synset('snowflake.n.01'), Synset('tear.n.01')] \n",
      "is made of the following substances [Synset('hydrogen.n.01'), Synset('oxygen.n.01')]\n",
      "\n",
      "\n"
     ]
    }
   ],
   "source": [
    "my_synsets = [wn.synset('nose.n.01'), wn.synset('telephone.n.01'), wn.synset('tree.n.01'), wn.synset('water.n.01')]\n",
    "\n",
    "for synset in my_synsets:\n",
    "    print(synset.name(), '\\t', synset.definition())\n",
    "    print('is member of {} '.format(synset.member_holonyms()))\n",
    "    print('its members are {}'.format(synset.member_meronyms()))\n",
    "    print('is part of {} '.format(synset.part_holonyms()))\n",
    "    print('its parts are {}'.format(synset.part_meronyms()))\n",
    "    print('is as a substance used in {} '.format(synset.substance_holonyms()))\n",
    "    print('is made of the following substances {}'.format(synset.substance_meronyms()))\n",
    "    print('\\n')"
   ]
  },
  {
   "cell_type": "markdown",
   "metadata": {},
   "source": [
    "### Exercise 7"
   ]
  },
  {
   "cell_type": "markdown",
   "metadata": {},
   "source": [
    "According to Strunk and White's Elements of Style, the word however, used at the start of a sentence, means \"in whatever way\" or \"to whatever extent\", and not \"nevertheless\". They give this example of correct usage: However you advise him, he will probably do as he thinks best. (http://www.bartleby.com/141/strunk3.html) Use the concordance tool to study actual usage of this word in the various texts we have been considering. See also the LanguageLog posting \"Fossilized prejudices about 'however'\" at http://itre.cis.upenn.edu/~myl/languagelog/archives/001913.html"
   ]
  },
  {
   "cell_type": "code",
   "execution_count": null,
   "metadata": {},
   "outputs": [],
   "source": [
    "for category in brown.categories():\n",
    "    text = brown.words(categories=category)\n",
    "    print(\"Category: {}\".format(category))\n",
    "    print (ConcordanceIndex(text).print_concordance(\"However\", width=200, lines=100))\n",
    "    print('\\n')\n",
    "        "
   ]
  },
  {
   "cell_type": "markdown",
   "metadata": {},
   "source": [
    "El método \"concordance\" de nltk es case-insensitive, por eso utilizo la clase ConcordanceIndex que sí permite sacar las concordancias solo para las palabras que empiezan en mayúsculas y así, es decir solo para los casos en los que \"however\" está al principio de una oración.  \n",
    "\n",
    "De los más de 170 casos de uso de \"however\" al inicio de una oración en el Brown Corpus, solo 8, bajo mi opinión, podrían ser sustituidos por \"to whatever extent\", lo que nos lleva a pensar que se trata de un uso no muy frecuente."
   ]
  },
  {
   "cell_type": "markdown",
   "metadata": {},
   "source": [
    "### Exercise 8."
   ]
  },
  {
   "cell_type": "markdown",
   "metadata": {},
   "source": [
    "Define a conditional frequency distribution over the Names corpus that allows you to see which initial letters are more frequent for males vs. females."
   ]
  },
  {
   "cell_type": "code",
   "execution_count": 17,
   "metadata": {},
   "outputs": [
    {
     "name": "stdout",
     "output_type": "stream",
     "text": [
      "There are 5001 female names\n",
      "There are 2943 male names\n",
      "         A   B   C   D   E   F   G   H   I   J   K   L   M   N   O   P   Q   R   S   T   U   V   W   X   Y   Z \n",
      "female 443 246 469 308 251 144 213 124  83 293 276 332 484 158  66 121   9 247 309 198  14 105  54   5  18  31 \n",
      "  male 213 173 166 146 119  87 156 163  45 144  70 113 200  77  52 101  15 200 238 188  22  50 151   7  16  31 \n"
     ]
    }
   ],
   "source": [
    "for fileid in names.fileids():\n",
    "    print(\"There are {} {} names\".format(len(names.words(fileid)), fileid[:-4]))\n",
    "\n",
    "gender_cfd = ConditionalFreqDist(\n",
    "          (fileid[:-4], first_name[0])\n",
    "          for fileid in names.fileids()\n",
    "          for first_name in names.words(fileid)              \n",
    ")\n",
    "gender_cfd.tabulate()"
   ]
  },
  {
   "cell_type": "markdown",
   "metadata": {},
   "source": [
    "Hay más nombres masculinos que femeninos en el corpus, por lo que si quisieramos comparar las frecuencias deberíamos primero haberlas normalizado. Sin embargo, a simple vista ya se puede ver que el porcentaje de nombres en \"H\", \"O\", \"Q\", \"T\", \"U\", \"W\", \"X\", \"Y\", \"Z\" entre los nombres masculinos es más elevado que entre los femeninos."
   ]
  },
  {
   "cell_type": "markdown",
   "metadata": {},
   "source": [
    "### Exercise 9"
   ]
  },
  {
   "cell_type": "markdown",
   "metadata": {},
   "source": [
    "Pick a pair of texts and study the differences between them, in terms of vocabulary, vocabulary richness, genre, etc. Can you find pairs of words which have quite different meanings across the two texts, such as monstrous in Moby Dick and in Sense and Sensibility?"
   ]
  },
  {
   "cell_type": "code",
   "execution_count": null,
   "metadata": {},
   "outputs": [],
   "source": [
    "files = ['chesterton-thursday.txt', 'carroll-alice.txt']\n",
    "texts = [Text(gutenberg.words(file), file) for file in files]\n",
    "words = \"rich poor\".split()\n",
    "row_format = '{:<25} {:<10} {:<10} {:<10} {:<10}'\n",
    "\n",
    "def text_richness(file):\n",
    "    tokens = len(text)\n",
    "    types = len(set(text))\n",
    "    lexical_diversity = round(types/tokens, 2)\n",
    "    stops_num = 0\n",
    "    for word in text:\n",
    "        if word in stops:\n",
    "            stops_num += 1\n",
    "    stops_part = round(stops_num/tokens, 2)\n",
    "    return(tokens, types, lexical_diversity, stops_part)\n",
    "\n",
    "def get_dist(text, stops=None):\n",
    "    text = [w.lower() for w in text]\n",
    "    if stops:\n",
    "        text = [w for w in text if w not in stops_punct]\n",
    "    fdist = FreqDist(text)\n",
    "    return fdist\n",
    "\n",
    "def get_collocations(text):\n",
    "    return text.collocations(35)\n",
    "\n",
    "def get_concordance(word, text):\n",
    "    return text.concordance(word)\n",
    "    \n",
    "    \n",
    "print(row_format.format('', 'tokens', 'types', 'diversity', 'stopwords'))\n",
    "\n",
    "for text in texts:\n",
    "    tokens, types, lexical_diversity, stops_part = text_richness(text)\n",
    "    print(row_format.format(text.name, tokens, types, lexical_diversity, stops_part))\n",
    "\n",
    "print('\\n\\n')\n",
    "\n",
    "for text in texts:\n",
    "    print(\"Collocations: \", text.name)\n",
    "    print(get_collocations(text))\n",
    "    print ('\\n\\n')\n",
    "\n",
    "for text in texts:\n",
    "    print(get_dist(text, stops + punctuation).most_common(50))\n",
    "    print ('\\n\\n')\n",
    "    \n",
    "for word in words:\n",
    "    for text in texts:\n",
    "        print(word, ': ', text.name)\n",
    "        print(get_concordance(word, text))\n",
    "        print('\\n\\n')"
   ]
  },
  {
   "cell_type": "markdown",
   "metadata": {},
   "source": [
    "He comparado \"The Man Who Was Thursday\" de Chesterton con \"Alice in Wonderland\" de Carrol.\n",
    "\n",
    "Los textos tienen unos índices de diversidad léxica casi idénticos (0,1 y 0,09) y la parte del texto ocupada por stopwords también es casi la misma (0.39 y 0.38).\n",
    "\n",
    "De las colocaciones de \"The Man Who Was Thursday\" se desprende que se podría tratar de una novela policíaca (\"Inspector Ratcliffe\", \"Scotland Yard\", \"police station\"). Y basándonos en las colocaciones de \"Alice\", podemos deducir que muchos de los personajes son animales (\"Mock Turtle\", \"March Hare\", etc.), por lo que debería tratarse de un cuento fantástico. También algunas colocaciones parecen indicar que en el libro hay mucho diálogo (\"said Alice\", \"trembling voice\", \"dead silence\", \"yer honor\", \"Alice replied\").\n",
    "\n",
    "Finalmente he mirado las concordancias de \"rich\" and \"poor\" en los dos textos. En el texto de Chesterton ambas palabras se usan tanto en relación con la situación económica de una persona o entidad (\"rich man\", \"the poor have been rebels\"), como en el sentido figurativo de \"abundante\" o \"suntuoso\" para \"rich\" (\"rich athmosphere\") y de desgraciado para \"poor\" (\"poor old Colonel\"). En el libro de Carrol la riqueza material, al parecer, no tiene mucha transcendencia. \"Rich\" se usa solo una vez para hablar de la sopa, mientras que \"poor\" se utiliza 27 veces y casi siempre para expresar compasión (\"poor Alice\", \"poor little things\", \"my poor hands\")."
   ]
  },
  {
   "cell_type": "markdown",
   "metadata": {},
   "source": [
    "### Exercise 10"
   ]
  },
  {
   "cell_type": "markdown",
   "metadata": {},
   "source": [
    "Read the BBC News article: UK's Vicky Pollards 'left behind' http://news.bbc.co.uk/1/hi/education/6173441.stm. The article gives the following statistic about teen language: \"the top 20 words used, including yeah, no, but and like, account for around a third of all words.\" How many word types account for a third of all word tokens, for a variety of text sources? What do you conclude about this statistic? Read more about this on LanguageLog, at http://itre.cis.upenn.edu/~myl/languagelog/archives/003993.html."
   ]
  },
  {
   "cell_type": "code",
   "execution_count": 29,
   "metadata": {},
   "outputs": [
    {
     "name": "stdout",
     "output_type": "stream",
     "text": [
      "Category: adventure. \n",
      "Number of types in category: 8158. \n",
      "Word types accounting for 1/3 of tokens: 239.\n",
      "% of types accounting for 1/3 of tokens: 0.03.\n",
      "\n",
      "Category: belles_lettres. \n",
      "Number of types in category: 16923. \n",
      "Word types accounting for 1/3 of tokens: 413.\n",
      "% of types accounting for 1/3 of tokens: 0.02.\n",
      "\n",
      "Category: editorial. \n",
      "Number of types in category: 8977. \n",
      "Word types accounting for 1/3 of tokens: 345.\n",
      "% of types accounting for 1/3 of tokens: 0.04.\n",
      "\n",
      "Category: fiction. \n",
      "Number of types in category: 8547. \n",
      "Word types accounting for 1/3 of tokens: 257.\n",
      "% of types accounting for 1/3 of tokens: 0.03.\n",
      "\n",
      "Category: government. \n",
      "Number of types in category: 7233. \n",
      "Word types accounting for 1/3 of tokens: 242.\n",
      "% of types accounting for 1/3 of tokens: 0.03.\n",
      "\n",
      "Category: hobbies. \n",
      "Number of types in category: 10690. \n",
      "Word types accounting for 1/3 of tokens: 390.\n",
      "% of types accounting for 1/3 of tokens: 0.04.\n",
      "\n",
      "Category: humor. \n",
      "Number of types in category: 4622. \n",
      "Word types accounting for 1/3 of tokens: 271.\n",
      "% of types accounting for 1/3 of tokens: 0.06.\n",
      "\n",
      "Category: learned. \n",
      "Number of types in category: 15341. \n",
      "Word types accounting for 1/3 of tokens: 394.\n",
      "% of types accounting for 1/3 of tokens: 0.03.\n",
      "\n",
      "Category: lore. \n",
      "Number of types in category: 13268. \n",
      "Word types accounting for 1/3 of tokens: 436.\n",
      "% of types accounting for 1/3 of tokens: 0.03.\n",
      "\n",
      "Category: mystery. \n",
      "Number of types in category: 6331. \n",
      "Word types accounting for 1/3 of tokens: 184.\n",
      "% of types accounting for 1/3 of tokens: 0.03.\n",
      "\n",
      "Category: news. \n",
      "Number of types in category: 12980. \n",
      "Word types accounting for 1/3 of tokens: 392.\n",
      "% of types accounting for 1/3 of tokens: 0.03.\n",
      "\n",
      "Category: religion. \n",
      "Number of types in category: 5798. \n",
      "Word types accounting for 1/3 of tokens: 228.\n",
      "% of types accounting for 1/3 of tokens: 0.04.\n",
      "\n",
      "Category: reviews. \n",
      "Number of types in category: 7938. \n",
      "Word types accounting for 1/3 of tokens: 392.\n",
      "% of types accounting for 1/3 of tokens: 0.05.\n",
      "\n",
      "Category: romance. \n",
      "Number of types in category: 7751. \n",
      "Word types accounting for 1/3 of tokens: 205.\n",
      "% of types accounting for 1/3 of tokens: 0.03.\n",
      "\n",
      "Category: science_fiction. \n",
      "Number of types in category: 2903. \n",
      "Word types accounting for 1/3 of tokens: 187.\n",
      "% of types accounting for 1/3 of tokens: 0.06.\n",
      "\n"
     ]
    }
   ],
   "source": [
    "categories = ['adventure', 'belles_lettres', 'editorial', 'fiction', 'government', 'hobbies',\n",
    "'humor', 'learned', 'lore', 'mystery', 'news', 'religion', 'reviews', 'romance',\n",
    "'science_fiction']\n",
    "\n",
    "\n",
    "def types_in_part(fdist, n):\n",
    "    # Set the number of tokens corresponding to n% of all the tokens\n",
    "    mark = fdist.N() * n\n",
    "    tokens = 0\n",
    "    for count, (word, freq) in enumerate(fdist.most_common()):\n",
    "        tokens += freq\n",
    "        if tokens >= mark:\n",
    "            types_number = count + 1\n",
    "            break\n",
    "    return types_number\n",
    "\n",
    "brown_cfdist = ConditionalFreqDist(\n",
    "        (category, word.lower())\n",
    "        for category in categories\n",
    "        for word in brown.words(categories=category)\n",
    "        if word.lower() not in stops_punct\n",
    "    )\n",
    "\n",
    "for fdist in brown_cfdist:\n",
    "    length = len(brown_cfdist[fdist])\n",
    "    types = types_in_part(brown_cfdist[fdist], 0.33)\n",
    "    print(\"Category: {}. \\nNumber of types in category: {}. \"\n",
    "          \"\\nWord types accounting for 1/3 of tokens: {}.\"\n",
    "          \"\\n% of types accounting for 1/3 of tokens: {}.\\n\"\n",
    "          .format(fdist, length, types, round(types/length,2)))\n",
    "    "
   ]
  },
  {
   "cell_type": "markdown",
   "metadata": {},
   "source": [
    "Creo que para poder comparar estos números deberíamos ver el porcentaje y no el número absoluto de los types que forman 1/3 de los tokens.  \n",
    "\n",
    "Parece que \"science fiction\", \"humor\" y \"reviews\" son las categorías en las que las palabras más comunes ocupan un menor porcentaje del número total de tokens. Por el momento, no se me ocurre ninguna explicación."
   ]
  },
  {
   "cell_type": "markdown",
   "metadata": {},
   "source": [
    "### Exercise 13"
   ]
  },
  {
   "cell_type": "markdown",
   "metadata": {},
   "source": [
    "What percentage of noun synsets have no hyponyms? You can get all noun synsets using wn.all_synsets('n')."
   ]
  },
  {
   "cell_type": "code",
   "execution_count": 30,
   "metadata": {},
   "outputs": [
    {
     "name": "stdout",
     "output_type": "stream",
     "text": [
      "79.67 percent of nouns have no hyponyms.\n"
     ]
    }
   ],
   "source": [
    "all_sets = list(wn.all_synsets('n'))\n",
    "hypless = 0\n",
    "\n",
    "for synset in all_sets:\n",
    "    if not len(synset.hyponyms()):\n",
    "        hypless += 1\n",
    "   \n",
    "print('{} percent of nouns have no hyponyms.'.format(round(hypless/len(all_sets)*100, 2)))"
   ]
  },
  {
   "cell_type": "markdown",
   "metadata": {},
   "source": [
    "### Exercise 14"
   ]
  },
  {
   "cell_type": "markdown",
   "metadata": {},
   "source": [
    "Define a function supergloss(s) that takes a synset s as its argument and returns a string consisting of the concatenation of the definition of s, and the definitions of all the hypernyms and hyponyms of s."
   ]
  },
  {
   "cell_type": "code",
   "execution_count": 32,
   "metadata": {},
   "outputs": [
    {
     "name": "stdout",
     "output_type": "stream",
     "text": [
      "a set of data arranged in rows and columns\n",
      " an orderly arrangement\n",
      " a table of statistical data\n",
      " a tabular array of the days (usually for one year)\n",
      " a list of divisions (chapters or articles) and the pages on which they start\n",
      " a two-way tabulation of the relations between correlates; row headings are the scores on one variable and column headings are the scores on the second variables and a cell shows how many times the score on that row was associated with the score in that column\n",
      " the part of a floppy disk or hard disk where information is stored about the location of each piece of information on the disk (and about the location of unusable areas of the disk)\n",
      " (chemistry) a tabular arrangement of the chemical elements according to atomic number as based on the periodic law\n"
     ]
    }
   ],
   "source": [
    "def supergloss(s):\n",
    "    data = []\n",
    "    data.append(s.definition())\n",
    "    for nyms in [s.hypernyms(), s.hyponyms()]:\n",
    "        for synset in nyms:\n",
    "            data.append(synset.definition())\n",
    "    return '\\n '.join(data)\n",
    "\n",
    "print(supergloss(wn.synset('table.n.01')))\n",
    "    "
   ]
  },
  {
   "cell_type": "markdown",
   "metadata": {},
   "source": [
    "### Exercise 15"
   ]
  },
  {
   "cell_type": "markdown",
   "metadata": {},
   "source": [
    "Write a program to find all words that occur at least three times in the Brown Corpus."
   ]
  },
  {
   "cell_type": "code",
   "execution_count": 34,
   "metadata": {},
   "outputs": [
    {
     "name": "stdout",
     "output_type": "stream",
     "text": [
      "There are 20615 words that occur at least 3 times in the Brown corpus.\n"
     ]
    }
   ],
   "source": [
    "def word_occurence(text, min_freq):\n",
    "    text = [w.lower() for w in text]\n",
    "    fdist = FreqDist(text)\n",
    "    common_words = sorted([w for w in set(text) if fdist[w] >= min_freq])\n",
    "    return common_words\n",
    "\n",
    "brown_3 = word_occurence(brown.words(), 3)\n",
    "print(\"There are {} words that occur at least 3 times in the Brown corpus.\".format(len(brown_3)))"
   ]
  },
  {
   "cell_type": "markdown",
   "metadata": {},
   "source": [
    "### Ejercicio 16"
   ]
  },
  {
   "cell_type": "markdown",
   "metadata": {},
   "source": [
    "Write a program to generate a table of lexical diversity scores (i.e. token/type ratios), as we saw in 1.1. Include the full set of Brown Corpus genres (nltk.corpus.brown.categories()). Which genre has the lowest diversity (greatest number of tokens per type)? Is this what you would have expected?"
   ]
  },
  {
   "cell_type": "code",
   "execution_count": 35,
   "metadata": {},
   "outputs": [
    {
     "name": "stdout",
     "output_type": "stream",
     "text": [
      "adventure 0.12\n",
      "belles_lettres 0.099\n",
      "editorial 0.148\n",
      "fiction 0.127\n",
      "government 0.105\n",
      "hobbies 0.131\n",
      "humor 0.219\n",
      "learned 0.085\n",
      "lore 0.122\n",
      "mystery 0.113\n",
      "news 0.13\n",
      "religion 0.151\n",
      "reviews 0.198\n",
      "romance 0.113\n",
      "science_fiction 0.21\n"
     ]
    }
   ],
   "source": [
    "categories = nltk.corpus.brown.categories()\n",
    "for category in brown.categories():\n",
    "    words = brown.words(categories=category)\n",
    "    words = [word.lower() for word in words]\n",
    "    lexical_diversity =  len(set(words)) / len(words)\n",
    "    print(category, round(lexical_diversity, 3))"
   ]
  },
  {
   "cell_type": "markdown",
   "metadata": {},
   "source": [
    "Las tres categorías con menor diversidad léxica son las de \"learned\", \"belles lettres\" y \"government\". Para \"government\" esto se podría explicar por el hecho de que se trata de un área muy específica que excluye casi por completo el uso de vocabulario propio del lenguaje coloquial, periodístico, etc. En el caso de \"government\" y \"learned\" la única explicación que se me ocurre es que los dos son de mayor extensión que el resto de los subcorpous de Brown (un texto de 10000 tendría una menor diversidad léxica que uno de 100). De este mismo modo podríamos explicar la diversidad en las categorías de \"science fiction\", \"reviews\" y \"religion\"."
   ]
  },
  {
   "cell_type": "markdown",
   "metadata": {
    "collapsed": true
   },
   "source": [
    "### Exercise 17"
   ]
  },
  {
   "cell_type": "markdown",
   "metadata": {},
   "source": [
    "Write a function that finds the 50 most frequently occurring words of a text that are not stopwords."
   ]
  },
  {
   "cell_type": "code",
   "execution_count": 38,
   "metadata": {},
   "outputs": [
    {
     "data": {
      "text/plain": [
       "[(',', 3654), ('.', 3639), ('``', 703), (\"''\", 698), ('?', 564), (';', 318), ('would', 287), ('!', 284), ('said', 192), ('--', 176), ('one', 168), ('could', 166), ('like', 147), ('man', 111), ('back', 102), ('time', 99), ('came', 91), (':', 84), ('little', 81), ('went', 79), ('get', 78), ('thought', 76), ('old', 75), ('know', 75), ('go', 72), ('men', 72), ('looked', 72), ('around', 71), ('never', 71), ('two', 68), ('room', 63), ('way', 62), ('eyes', 60), ('made', 60), ('knew', 59), ('face', 58), ('felt', 58), ('saw', 58), ('even', 57), ('see', 57), ('good', 55), ('seemed', 55), ('still', 55), (\"don't\", 55), ('come', 55), ('away', 55), ('must', 55), ('house', 54), ('head', 54), ('long', 53)]"
      ]
     },
     "execution_count": 38,
     "metadata": {},
     "output_type": "execute_result"
    }
   ],
   "source": [
    "def most_frequent_50(text):\n",
    "    text = [word for word in text if word.lower() not in stops]\n",
    "    fdist = FreqDist(text)\n",
    "    return fdist.most_common(50)\n",
    "\n",
    "most_frequent_50(brown.words(categories='fiction'))"
   ]
  },
  {
   "cell_type": "markdown",
   "metadata": {},
   "source": [
    "### Exercise 18"
   ]
  },
  {
   "cell_type": "markdown",
   "metadata": {},
   "source": [
    "Write a program to print the 50 most frequent bigrams (pairs of adjacent words) of a text, omitting bigrams that contain stopwords."
   ]
  },
  {
   "cell_type": "code",
   "execution_count": 39,
   "metadata": {},
   "outputs": [
    {
     "data": {
      "text/plain": [
       "[(('I', \"don't\"), 30), (('Linda', 'Kay'), 17), (('He', 'thought'), 15), (('Bobby', 'Joe'), 15), (('Miss', 'Ada'), 15), (('could', 'see'), 14), (('He', 'would'), 13), ((\"don't\", 'know'), 13), (('He', 'looked'), 12), (('He', 'felt'), 12), (('I', 'think'), 12), (('He', 'saw'), 12), (('old', 'man'), 12), (('I', 'would'), 12), (('I', \"didn't\"), 12), (('Simms', 'Purdew'), 12), (('Big', 'Hans'), 12), (('Mr.', 'Jack'), 12), (('The', 'doctor'), 11), (('I', 'know'), 11), (('He', 'said'), 10), (('New', 'York'), 10), (('I', 'guess'), 10), (('The', 'man'), 9), (('Uncle', 'Randolph'), 9), (('living', 'room'), 8), (('He', 'could'), 8), ((\"didn't\", 'know'), 8), (('The', 'figure'), 8), (('I', 'thought'), 8), (('The', 'men'), 8), (('I', 'could'), 8), ((\"don't\", 'care'), 8), (('would', 'say'), 7), (('He', 'knew'), 7), (('It', 'would'), 7), (('I', 'told'), 7), (('I', 'knew'), 7), (('I', 'never'), 7), (('Cousin', 'Simmons'), 7), (('I', 'want'), 7), (('Pedersen', 'kid'), 7), (('Mr.', 'McKinley'), 6), (('I', 'mean'), 6), (('would', 'come'), 6), (('I', 'said'), 6), (('Amen', 'corner'), 6), (('Kent', 'House'), 6), (('one', 'thing'), 6), (('No', 'one'), 6)]"
      ]
     },
     "execution_count": 39,
     "metadata": {},
     "output_type": "execute_result"
    }
   ],
   "source": [
    "def most_frequent_bigrams(sents, num):\n",
    "    bigrams = []\n",
    "    for sent in sents:\n",
    "        bigrams += list(nltk.bigrams(sent))\n",
    "    bigrams = [(w_1, w_2) for (w_1, w_2) in bigrams \n",
    "               if w_1 not in stops_punct \n",
    "               and w_2 not in stops_punct]\n",
    "    fdist = FreqDist(bigrams)\n",
    "    return fdist.most_common(num)\n",
    "\n",
    "most_frequent_bigrams(brown.sents(categories='fiction'), 50)"
   ]
  },
  {
   "cell_type": "markdown",
   "metadata": {},
   "source": [
    "Además de los stopwords he omitido también los signos de puntuación.  \n",
    "\n",
    "En vez de pasarle una lista de palabras a la función le paso una lista de oraciones, así se evita que se considere como bigram la combinación de la última y primera palabras de las frases adyacentes."
   ]
  },
  {
   "cell_type": "markdown",
   "metadata": {},
   "source": [
    "### Exercise 19"
   ]
  },
  {
   "cell_type": "markdown",
   "metadata": {},
   "source": [
    "Write a program to create a table of word frequencies by genre, like the one given in 1 for modals. Choose your own words and try to find words whose presence (or absence) is typical of a genre. Discuss your findings."
   ]
  },
  {
   "cell_type": "code",
   "execution_count": 40,
   "metadata": {},
   "outputs": [
    {
     "name": "stdout",
     "output_type": "stream",
     "text": [
      "                 can't cannot \n",
      "      adventure     22      1 \n",
      " belles_lettres     12     52 \n",
      "      editorial     12     32 \n",
      "        fiction     11      4 \n",
      "     government      2     12 \n",
      "        hobbies      7     23 \n",
      "          humor      7      5 \n",
      "        learned      2     56 \n",
      "           lore     14     23 \n",
      "        mystery     26      0 \n",
      "           news     15     15 \n",
      "       religion      0     22 \n",
      "        reviews      2      6 \n",
      "        romance     30      6 \n",
      "science_fiction      7      1 \n"
     ]
    }
   ],
   "source": [
    "my_words = [\"can't\", \"cannot\"]\n",
    "categories = brown.categories()\n",
    "\n",
    "cfd = ConditionalFreqDist(\n",
    "    (category, target)\n",
    "    for category in categories\n",
    "    for word in brown.words(categories=category)\n",
    "    for target in my_words\n",
    "    if word.lower() == target\n",
    ")\n",
    "\n",
    "cfd.tabulate()"
   ]
  },
  {
   "cell_type": "markdown",
   "metadata": {},
   "source": [
    "Hemos comparado el uso de \"can't\" y \"cannot\" en los texto de distintas categorías. Como era de esperar, \"can't\" es más presente que \"cannot\" en las cateogrías que corresponde a las novelas, ya que en éstas se imita mucho el lenguaje coloquial. En las noticias \"can't\" se usa con la misma frecuencia que \"cannot\", lo que se podría atribuir a la abundancia de citas directas en las noticias. En las demás categorías vemos una mayor frecuencia de \"cannot\".  "
   ]
  },
  {
   "cell_type": "markdown",
   "metadata": {},
   "source": [
    "### Exercise 20"
   ]
  },
  {
   "cell_type": "markdown",
   "metadata": {},
   "source": [
    "Write a function word_freq() that takes a word and the name of a section of the Brown Corpus as arguments, and computes the frequency of the word in that section of the corpus."
   ]
  },
  {
   "cell_type": "code",
   "execution_count": 41,
   "metadata": {},
   "outputs": [
    {
     "data": {
      "text/plain": [
       "131"
      ]
     },
     "execution_count": 41,
     "metadata": {},
     "output_type": "execute_result"
    }
   ],
   "source": [
    "def word_freq(word, section):\n",
    "    text = brown.words(categories=section)\n",
    "    text = [w.lower() for w in text]\n",
    "    fdist = FreqDist(text)\n",
    "    return fdist[word]\n",
    "\n",
    "word_freq('my', 'fiction')"
   ]
  },
  {
   "cell_type": "markdown",
   "metadata": {},
   "source": [
    "### Exercise 22"
   ]
  },
  {
   "cell_type": "markdown",
   "metadata": {},
   "source": [
    "Define a function hedge(text) which processes a text and produces a new version with the word 'like' between every third word."
   ]
  },
  {
   "cell_type": "code",
   "execution_count": 42,
   "metadata": {},
   "outputs": [
    {
     "data": {
      "text/plain": [
       "['Thirty-three', 'Scotty', 'did', 'like', 'not', 'go', 'back', 'like', 'to', 'school', '.', 'His', 'like', 'parents', 'talked', 'seriously', 'like', 'and', 'lengthily', 'to', 'like', 'their', 'own', 'doctor', 'like', 'and', 'to', 'a', 'like', 'specialist', 'at', 'the', 'like', 'University', 'Hospital', '--', 'Mr.', 'like', 'McKinley', 'was', 'entitled', 'like', 'to', 'a', 'discount', 'like', 'for', 'members', 'of', 'like', 'his', 'family', '--', 'and', 'like', 'it', 'was', 'decided', 'like', 'it', 'would', 'be', 'like', 'best', 'for', 'him', 'like', 'to', 'take', 'the']"
      ]
     },
     "execution_count": 42,
     "metadata": {},
     "output_type": "execute_result"
    }
   ],
   "source": [
    "def hedge(text):\n",
    "    new_text = []\n",
    "    order = 0\n",
    "    for word in text:\n",
    "        new_text.append(word)\n",
    "        order += 1\n",
    "        if order == 3:\n",
    "            if word not in punctuation:\n",
    "                new_text.append('like')\n",
    "                order = 0\n",
    "            else:\n",
    "                order = 2\n",
    "    return new_text\n",
    "\n",
    "hedge(brown.words(categories='fiction'))[:70]"
   ]
  },
  {
   "cell_type": "markdown",
   "metadata": {},
   "source": [
    "### Exercise 23"
   ]
  },
  {
   "cell_type": "markdown",
   "metadata": {},
   "source": [
    "Let f(w) be the frequency of a word w in free text. Suppose that all the words of a text are ranked according to their frequency, with the most frequent word first. Zipf's law states that the frequency of a word type is inversely proportional to its rank (i.e. f × r = k, for some constant k). For example, the 50th most common word type should occur three times as frequently as the 150th most common word type."
   ]
  },
  {
   "cell_type": "markdown",
   "metadata": {},
   "source": [
    "a. Write a function to process a large text and plot word frequency against word rank using pylab.plot. Do you confirm Zipf's law? (Hint: it helps to use a logarithmic scale). What is going on at the extreme ends of the plotted line?"
   ]
  },
  {
   "cell_type": "code",
   "execution_count": 43,
   "metadata": {},
   "outputs": [
    {
     "data": {
      "image/png": "[encoded data removed]",
      "text/plain": [
       "<matplotlib.figure.Figure object at 0x127ef3fd0>"
      ]
     },
     "metadata": {},
     "output_type": "display_data"
    }
   ],
   "source": [
    "def plot_rank_freq(text):\n",
    "    text = [w.lower() for w in text]\n",
    "    fdist = FreqDist(text)\n",
    "    word_freq = fdist.most_common()\n",
    "    ranks, freqs = list(), list()\n",
    "    for count, tupla in enumerate(word_freq):\n",
    "        ranks.append(count+1)\n",
    "        freqs.append(tupla[1])\n",
    "    pyplot.plot(ranks, freqs)\n",
    "    pyplot.title('Word rank against word frequency')\n",
    "    pyplot.xlabel('Rank')\n",
    "    pyplot.ylabel('Frequency')\n",
    "    pyplot.yscale('log')\n",
    "    pyplot.xscale('log')\n",
    "    pyplot.show()\n",
    "\n",
    "plot_rank_freq(brown.words())"
   ]
  },
  {
   "cell_type": "markdown",
   "metadata": {},
   "source": [
    "La ley de Zipf no funciona en los extremos. En un texto normal, es prácticamente imposible que el primer type más común sea 2 veces más frecuente que el segudno más común. En el otro extremo, el type número 25000 y el número 50000 y todos los que estén entre ellos y los siguen tendrán una frecuencia de 1."
   ]
  },
  {
   "cell_type": "markdown",
   "metadata": {},
   "source": [
    "Generate random text, e.g., using random.choice(\"abcdefg \"), taking care to include the space character. You will need to import random first. Use the string concatenation operator to accumulate characters into a (very) long string. Then tokenize this string, and generate the Zipf plot as before, and compare the two plots. What do you make of Zipf's Law in the light of this?"
   ]
  },
  {
   "cell_type": "code",
   "execution_count": 44,
   "metadata": {},
   "outputs": [
    {
     "data": {
      "image/png": "[encoded data removed]",
      "text/plain": [
       "<matplotlib.figure.Figure object at 0x12cb6d240>"
      ]
     },
     "metadata": {},
     "output_type": "display_data"
    }
   ],
   "source": [
    "alpha_string = \"abcdefg \"\n",
    "random_string = str()\n",
    "for i in range(2000000):\n",
    "    random_string += random.choice(alpha_string)\n",
    "random_words = random_string.split()\n",
    "\n",
    "plot_rank_freq(random_words)\n",
    "    "
   ]
  },
  {
   "cell_type": "markdown",
   "metadata": {},
   "source": [
    "Este plot se desvía más aún de la ley de Zipf y no solo en los extremos. Creo que es debido a que las palabras de la misma longitud tienden a tener unas frecuencias muy similares. En una distribución sacada de un texto normal un type de dos letras puede darse 1 o 1000 veces, mientras que aquí eso no va a suceder. Por la misma razón, ciertas frecuencias simplemente nunca se van dar, de ahí este gráfico en \"escalones\". "
   ]
  },
  {
   "cell_type": "markdown",
   "metadata": {},
   "source": [
    "### Exercise 24"
   ]
  },
  {
   "cell_type": "markdown",
   "metadata": {},
   "source": [
    "Modify the text generation program in 2.2 further, to do the following tasks:"
   ]
  },
  {
   "cell_type": "markdown",
   "metadata": {},
   "source": [
    "a. Store the n most likely words in a list words then randomly choose a word from the list using random.choice(). (You will need to import random first.)  \n",
    "\n",
    "\n",
    "b. Select a particular genre, such as a section of the Brown Corpus, or a genesis translation, one of the Gutenberg texts, or one of the Web texts. Train the model on this corpus and get it to generate random text. You may have to experiment with different start words. How intelligible is the text? Discuss the strengths and weaknesses of this method of generating random text."
   ]
  },
  {
   "cell_type": "code",
   "execution_count": 47,
   "metadata": {},
   "outputs": [
    {
     "name": "stdout",
     "output_type": "stream",
     "text": [
      "fiction\n",
      "\n",
      "\n",
      "The word is the \n",
      "\n",
      "Choosing from 3 bigrams: the door and the road . `` You want to the same way , he could not to his face . He had a man , the same time he could see . `` What did . The doctor had \n",
      "\n",
      "Choosing from 6 bigrams: the door of the house with her eyes and I don't know how they went out , `` I don't go out . The doctor annoys me a few moments when she could be done in her . She said \n",
      "\n",
      "Choosing from 10 bigrams: the hall she thought : big battle spread to see what to his face , she went into his mind the time I was in the time or Virginia's reply : home alone . I think by God and they \n",
      "\n",
      "Choosing from 15 bigrams: the hall bedroom , as in order the door that . `` Well you will get her to him up in an instant the house in their sharp edges seemed like himself before '' -- was to make graven images \n",
      "\n",
      "Choosing from 40 bigrams: the edge . Now and again went along with me today tomorrow will wait to it is the man to play a low . I say ; Stevie yearned for supper in school and stood stiffly regal look for five \n",
      "\n",
      "\n",
      "\n",
      "The word is orange \n",
      "\n",
      "Choosing from 3 bigrams: orange sauces and a man , and the door and a little . `` You know how to his face , he could not to the same . The doctor had been in his head of a little to his \n",
      "\n",
      "Choosing from 6 bigrams: orange sauces and then they went out , and I think you know how to go home . The figure appear at the road , and the road to go , the road to go home . `` No doubt \n",
      "\n",
      "Choosing from 10 bigrams: orange sauces and that a very curious people in the world . There are also hear of her head out in the road , but that he did not a little melodies that , with a moment . He could \n",
      "\n",
      "Choosing from 15 bigrams: orange sauces and he knew better by God and when he felt no . And this was only one day . I think much about this one of their efforts , his head : What was still . Then it \n",
      "\n",
      "Choosing from 40 bigrams: orange sauces and at her arms would you think you'll miss him over inter loyal usually wore yellow sheath , one would find them had ever since the ground , for Joel through an instant at anything of life had \n",
      "\n",
      "\n",
      "\n",
      "\n",
      "\n",
      "news\n",
      "\n",
      "\n",
      "The word is the \n",
      "\n",
      "Choosing from 3 bigrams: the United States' global scale with the first two years in a new medical and a year , the United States . He said , the state , and a year and Mrs. Robert O. Strickland . The jury said \n",
      "\n",
      "Choosing from 6 bigrams: the first . A year earlier court which had to the same as well as they were able administrator and the same '' and a special sessions . In his wife of this week at which the same as the \n",
      "\n",
      "Choosing from 10 bigrams: the President is no one of his own 44 and in Dallas County Democratic party in this country now faced such control on a new school and the Congo since Texas Sen. Louis U.'s nationally known in its payroll by \n",
      "\n",
      "Choosing from 15 bigrams: the past have no fewer than it . He will be a special elections on to pay a long , `` A young daughter in 1958 ) the House '' and `` a year . They also had not all \n",
      "\n",
      "Choosing from 40 bigrams: the people or lack charged mental cruelty . Mr. Giorgio was the United States `` A reader of an effort weakened by two-thirds . There his sister and the jury further support will wind up there must accomplish this month \n",
      "\n",
      "\n",
      "\n",
      "The word is orange \n",
      "\n",
      "Choosing from 3 bigrams: orange tones are the first two of the United States , who is a new medical and a `` I was a `` I am getting back to be the state law , and Mrs. William H. Reama told the \n",
      "\n",
      "Choosing from 6 bigrams: orange tones predominating as an hour . He is not the United States' profound attachment does not to make the United States to get a number and the state . The President Kennedy was a `` The new medical research \n",
      "\n",
      "Choosing from 10 bigrams: orange tones predominating as he and his second straight over 65 who have the United Mine Workers struck manufacturer is being offered his office expires Jan. 20 , a result in this country has said , in an investigation of \n",
      "\n",
      "Choosing from 15 bigrams: orange tones are not be made in its new post . The President , a special elections on . `` the President said his second game of this was the last November 14 per cubic feet over prices that there \n",
      "\n",
      "Choosing from 40 bigrams: orange tones are made its new attention quickly won his name for governor , of Mr. and to hear seven cases he once told members would order ( special gift shop at noon tomorrow night of education is president . \n",
      "\n",
      "\n",
      "\n",
      "\n",
      "\n"
     ]
    }
   ],
   "source": [
    "def generate_model(cfdist, word, length, candidates_number):\n",
    "    for i in range(length):\n",
    "        print(word, end=' ')\n",
    "        candidates = [candidate for (candidate, frequency) in cfdist[word].most_common(candidates_number)]\n",
    "        word = random.choice(candidates)\n",
    "\n",
    "categories = ['fiction', 'news']\n",
    "candidates_nums = [3,6,10,15,40]\n",
    "words = ['the', 'orange']\n",
    "\n",
    "for category in categories:\n",
    "    bigrams = nltk.bigrams(brown.words(categories=category))\n",
    "    cfd = nltk.ConditionalFreqDist(bigrams)\n",
    "    print(category)\n",
    "    print('\\n')\n",
    "    for word in words:\n",
    "        print('The word is {}'.format(word), '\\n')\n",
    "        for cand_num in candidates_nums:\n",
    "            print('Choosing from {} bigrams:'.format(cand_num), end=' ')\n",
    "            try:\n",
    "                generate_model(cfd, word, 40, cand_num)\n",
    "            except IndexError:\n",
    "                print(\"No such word.\")\n",
    "                break\n",
    "            else:\n",
    "                print('\\n')\n",
    "        print('\\n') \n",
    "    print('\\n')            \n",
    "                "
   ]
  },
  {
   "cell_type": "markdown",
   "metadata": {},
   "source": [
    "Creo que la \"inteligibilidad\" del texto generado no cambia dependiendo del número de bigrams de los que se elige al azar la siguiente palabra, lo que sí cambia, obviamente, es la diversidad de las palabras utilizadas. \n",
    "\n",
    "También cuanto menos frecuente la palabra por la que empezamos (por ejemplo, \"orange\"), más probable que generemos unos resultados parecidos, al menos en la primera parte. "
   ]
  },
  {
   "cell_type": "markdown",
   "metadata": {
    "collapsed": true
   },
   "source": [
    "   ### Exercise 25"
   ]
  },
  {
   "cell_type": "markdown",
   "metadata": {},
   "source": [
    "Define a function find_language() that takes a string as its argument, and returns a list of languages that have that string as a word. Use the udhr corpus and limit your searches to files in the Latin-1 encoding."
   ]
  },
  {
   "cell_type": "code",
   "execution_count": 48,
   "metadata": {},
   "outputs": [
    {
     "data": {
      "text/plain": [
       "['English-Latin1', 'Interlingua-Latin1', 'NigerianPidginEnglish-Latin1', 'SolomonsPidgin_Pijin-Latin1', 'TokPisin-Latin1', 'Yao-Latin1']"
      ]
     },
     "execution_count": 48,
     "metadata": {},
     "output_type": "execute_result"
    }
   ],
   "source": [
    "languages = [language for language in udhr.fileids() if 'Latin1' in language]\n",
    "\n",
    "def find_language(word):\n",
    "    languages_with_word = [language for language in languages\n",
    "                          if word.lower() in [w.lower() for w in udhr.words(language)]]\n",
    "    return languages_with_word\n",
    "\n",
    "find_language('human')"
   ]
  },
  {
   "cell_type": "markdown",
   "metadata": {},
   "source": [
    "### Exercise 26"
   ]
  },
  {
   "cell_type": "markdown",
   "metadata": {},
   "source": [
    "What is the branching factor of the noun hypernym hierarchy? I.e. for every noun synset that has hyponyms — or children in the hypernym hierarchy — how many do they have on average? You can get all noun synsets using wn.all_synsets('n')."
   ]
  },
  {
   "cell_type": "code",
   "execution_count": 49,
   "metadata": {},
   "outputs": [
    {
     "data": {
      "text/plain": [
       "4.54"
      ]
     },
     "execution_count": 49,
     "metadata": {},
     "output_type": "execute_result"
    }
   ],
   "source": [
    "all_sets = list(wn.all_synsets('n'))\n",
    "total_hyponyms = 0\n",
    "sets_with_hyponyms = 0\n",
    "\n",
    "for sset in all_sets:\n",
    "    if sset.hyponyms():\n",
    "        total_hyponyms += len(sset.hyponyms())\n",
    "        sets_with_hyponyms += 1\n",
    "average_hyponyms = total_hyponyms / sets_with_hyponyms\n",
    "round(average_hyponyms, 2)\n"
   ]
  },
  {
   "cell_type": "markdown",
   "metadata": {},
   "source": [
    "### Exercise 27"
   ]
  },
  {
   "cell_type": "markdown",
   "metadata": {},
   "source": [
    "The polysemy of a word is the number of senses it has. Using WordNet, we can determine that the noun dog has 7 senses with: len(wn.synsets('dog', 'n')). Compute the average polysemy of nouns, verbs, adjectives and adverbs according to WordNet."
   ]
  },
  {
   "cell_type": "code",
   "execution_count": 50,
   "metadata": {},
   "outputs": [
    {
     "name": "stdout",
     "output_type": "stream",
     "text": [
      "n 1.28\n",
      "v 2.19\n",
      "a 1.41\n",
      "r 1.25\n"
     ]
    }
   ],
   "source": [
    "poses = ['n', 'v', 'a', 'r']\n",
    "\n",
    "for pos in poses:\n",
    "    all_sets = wn.all_synsets(pos)\n",
    "    words = [lemma.name() \n",
    "             for synset in list(all_sets) \n",
    "             for lemma in synset.lemmas()]\n",
    "    words = set(words)\n",
    "    synsets_number = 0\n",
    "    for word in words:\n",
    "        synsets_number += len(wn.synsets(word, pos))\n",
    "    average_synsets_number = synsets_number / len(words)\n",
    "    print(pos, round(average_synsets_number, 2))\n",
    "        "
   ]
  },
  {
   "cell_type": "markdown",
   "metadata": {},
   "source": [
    "### Exercise 28"
   ]
  },
  {
   "cell_type": "markdown",
   "metadata": {},
   "source": [
    "Use one of the predefined similarity measures to score the similarity of each of the following pairs of words. Rank the pairs in order of decreasing similarity. How close is your ranking to the order given here, an order that was established experimentally by (Miller & Charles, 1998): car-automobile, gem-jewel, journey-voyage, boy-lad, coast-shore, asylum-madhouse, magician-wizard, midday-noon, furnace-stove, food-fruit, bird-cock, bird-crane, tool-implement, brother-monk, lad-brother, crane-implement, journey-car, monk-oracle, cemetery-woodland, food-rooster, coast-hill, forest-graveyard, shore-woodland, monk-slave, coast-forest, lad-wizard, chord-smile, glass-magician, rooster-voyage, noon-string."
   ]
  },
  {
   "cell_type": "code",
   "execution_count": 51,
   "metadata": {},
   "outputs": [
    {
     "name": "stdout",
     "output_type": "stream",
     "text": [
      "Pair: ('car', 'automobile'). Score: 1.0\n",
      "\n",
      "Pair: ('gem', 'jewel'). Score: 1.0\n",
      "\n",
      "Pair: ('magician', 'wizard'). Score: 1.0\n",
      "\n",
      "Pair: ('midday', 'noon'). Score: 1.0\n",
      "\n",
      "Pair: ('journey', 'voyage'). Score: 0.5\n",
      "\n",
      "Pair: ('boy', 'lad'). Score: 0.5\n",
      "\n",
      "Pair: ('coast', 'shore'). Score: 0.5\n",
      "\n",
      "Pair: ('asylum', 'madhouse'). Score: 0.5\n",
      "\n",
      "Pair: ('bird', 'cock'). Score: 0.5\n",
      "\n",
      "Pair: ('tool', 'implement'). Score: 0.5\n",
      "\n",
      "Pair: ('brother', 'monk'). Score: 0.5\n",
      "\n",
      "Pair: ('bird', 'crane'). Score: 0.25\n",
      "\n",
      "Pair: ('lad', 'brother'). Score: 0.2\n",
      "\n",
      "Pair: ('crane', 'implement'). Score: 0.2\n",
      "\n",
      "Pair: ('coast', 'hill'). Score: 0.2\n",
      "\n",
      "Pair: ('shore', 'woodland'). Score: 0.2\n",
      "\n",
      "Pair: ('monk', 'slave'). Score: 0.2\n",
      "\n",
      "Pair: ('lad', 'wizard'). Score: 0.2\n",
      "\n",
      "Pair: ('coast', 'forest'). Score: 0.17\n",
      "\n",
      "Pair: ('monk', 'oracle'). Score: 0.12\n",
      "\n",
      "Pair: ('chord', 'smile'). Score: 0.12\n",
      "\n",
      "Pair: ('glass', 'magician'). Score: 0.12\n",
      "\n",
      "Pair: ('cemetery', 'woodland'). Score: 0.11\n",
      "\n",
      "Pair: ('forest', 'graveyard'). Score: 0.11\n",
      "\n",
      "Pair: ('furnace', 'stove'). Score: 0.1\n",
      "\n",
      "Pair: ('food', 'fruit'). Score: 0.1\n",
      "\n",
      "Pair: ('journey', 'car'). Score: 0.08\n",
      "\n",
      "Pair: ('noon', 'string'). Score: 0.08\n",
      "\n",
      "Pair: ('food', 'rooster'). Score: 0.06\n",
      "\n",
      "Pair: ('rooster', 'voyage'). Score: 0.04\n",
      "\n"
     ]
    }
   ],
   "source": [
    "pairs = [{'words': ('car', 'automobile')}, {'words': ('gem', 'jewel')}, {'words': ('journey', 'voyage')},\n",
    "         {'words': ('boy', 'lad')}, {'words': ('coast', 'shore')}, {'words': ('asylum', 'madhouse')}, \n",
    "         {'words': ('magician', 'wizard')}, {'words': ('midday', 'noon')}, {'words': ('furnace', 'stove')}, \n",
    "         {'words': ('food', 'fruit')}, {'words': ('bird', 'cock')}, {'words': ('bird', 'crane')}, \n",
    "         {'words': ('tool', 'implement')}, {'words': ('brother', 'monk')}, {'words': ('lad', 'brother')}, \n",
    "         {'words': ('crane', 'implement')}, {'words': ('journey', 'car')}, {'words': ('monk', 'oracle')}, \n",
    "         {'words': ('cemetery', 'woodland')}, {'words': ('food', 'rooster')}, {'words': ('coast', 'hill')}, \n",
    "         {'words': ('forest', 'graveyard')}, {'words': ('shore', 'woodland')}, {'words': ('monk', 'slave')},\n",
    "         {'words': ('coast', 'forest')}, {'words': ('lad', 'wizard')}, {'words': ('chord', 'smile')}, \n",
    "         {'words': ('glass', 'magician')}, {'words': ('rooster', 'voyage')}, {'words': ('noon', 'string')}]\n",
    "\n",
    "\n",
    "for pair in pairs:\n",
    "    # compare each word1 synset with each word2 synset\n",
    "    # and get the highest score\n",
    "    highest_score = 0\n",
    "    for synset1 in wn.synsets(pair['words'][0]):\n",
    "        for synset2 in wn.synsets(pair['words'][1]):\n",
    "            score = wn.path_similarity(synset1, synset2)\n",
    "            try:\n",
    "                if score > highest_score:\n",
    "                    highest_score = score\n",
    "            except TypeError:\n",
    "                continue\n",
    "    pair['score'] = round(highest_score, 2)\n",
    "\n",
    "sorted_by_score = sorted(pairs, key=lambda k: k['score'], reverse=True)\n",
    "\n",
    "for elm in sorted_by_score:\n",
    "    print(\"Pair: {}. Score: {}\\n\".format(elm['words'], elm['score']))"
   ]
  },
  {
   "cell_type": "markdown",
   "metadata": {},
   "source": [
    "La clasificación de Miller y Charles con los scores se puede ver por ejemplo [aquí](https://arxiv.org/ftp/arxiv/papers/1204/1204.0245.pdf).  \n",
    "\n",
    "El ranking generado por wordnet en general no se aparta mucho del de Miller y Charles, aunque hay excepciones: por ejemplo, para Miller y Charles la pareja 'lad-wizard' ocupa el quinto sitio desde el final, mientras que aquía está a la mitad del ranking con un score de 0.2."
   ]
  },
  {
   "cell_type": "markdown",
   "metadata": {},
   "source": [
    "## Extra exercise"
   ]
  },
  {
   "cell_type": "markdown",
   "metadata": {},
   "source": [
    "Hemos descubierto que el gráfico 1.2 del capítulo 2 no corresponde a la función que supuestamente lo genera. La función pretende \"to examine the differences in word lengths for a selection of languages included in the udhr corpus\" devuelve una distribución con valores absolutos, mientras en el gráfico del libro vemos unos porcentajes. Este es mi intento de modificar la función para poder generar un gráfico similar al del libro. Para simplificar las cosas solo he incluido dos lenguas en mi distribución."
   ]
  },
  {
   "cell_type": "code",
   "execution_count": 53,
   "metadata": {},
   "outputs": [
    {
     "data": {
      "image/png": "[encoded data removed]",
      "text/plain": [
       "<matplotlib.figure.Figure object at 0x135729898>"
      ]
     },
     "metadata": {},
     "output_type": "display_data"
    }
   ],
   "source": [
    "from copy import copy, deepcopy\n",
    "\n",
    "languages = ['Chickasaw', 'English']\n",
    "cfd = nltk.ConditionalFreqDist(\n",
    "      (lang, len(word))\n",
    "      for lang in languages\n",
    "      for word in udhr.words(lang + '-Latin1'))\n",
    "\n",
    "rel_cfd = deepcopy(cfd) # Creamos una copia de la distribución condicional\n",
    "\n",
    "# Creamos copias de cada una de las distribuciones de frecuencias\n",
    "rel_fd1 = copy(cfd['Chickasaw'])\n",
    "rel_fd2 = copy(cfd['English'])\n",
    "\n",
    "def fdist_per(fd, i=100):\n",
    "    \"\"\"In a frequency distribution, replace absolute frequencies\n",
    "    by relative frequencies per every i items.\n",
    "    \"\"\"\n",
    "    length = fd.N()\n",
    "    for key, value in fd.items():\n",
    "        fd[key] = round(value / length * i, 3)\n",
    "    return fd\n",
    "\n",
    "#sustituimos las distribuciones con valores absolutos por distribuciones con valores relativos\n",
    "rel_cfd['Chickasaw'] = fdist_per(rel_fd1)\n",
    "rel_cfd['English'] = fdist_per(rel_fd2)\n",
    "\n",
    "\n",
    "rel_cfd.plot(cumulative=True)"
   ]
  }
 ],
 "metadata": {
  "kernelspec": {
   "display_name": "Python 3",
   "language": "python",
   "name": "python3"
  },
  "language_info": {
   "codemirror_mode": {
    "name": "ipython",
    "version": 3
   },
   "file_extension": ".py",
   "mimetype": "text/x-python",
   "name": "python",
   "nbconvert_exporter": "python",
   "pygments_lexer": "ipython3",
   "version": "3.6.1"
  }
 },
 "nbformat": 4,
 "nbformat_minor": 2
}
