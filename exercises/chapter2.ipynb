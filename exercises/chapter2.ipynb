{
 "cells": [
  {
   "cell_type": "markdown",
   "metadata": {},
   "source": [
    "# NTLK BOOK. Chapter 2."
   ]
  },
  {
   "cell_type": "raw",
   "metadata": {},
   "source": []
  },
  {
   "cell_type": "code",
   "execution_count": 1,
   "metadata": {},
   "outputs": [
    {
     "name": "stdout",
     "output_type": "stream",
     "text": [
      "Pretty printing has been turned OFF\n"
     ]
    }
   ],
   "source": [
    "%pprint"
   ]
  },
  {
   "cell_type": "code",
   "execution_count": 1,
   "metadata": {
    "collapsed": true
   },
   "outputs": [],
   "source": [
    "import nltk\n",
    "from nltk.corpus import state_union, brown, stopwords, gutenberg, wordnet as wn, nps_chat, udhr, names\n",
    "from nltk import Text, FreqDist, ConditionalFreqDist, ConcordanceIndex\n",
    "\n",
    "from matplotlib import pyplot\n",
    "import random"
   ]
  },
  {
   "cell_type": "markdown",
   "metadata": {},
   "source": [
    "Definimos unas variables que se utilizarán en varios ejercicios del capítulo."
   ]
  },
  {
   "cell_type": "code",
   "execution_count": 3,
   "metadata": {
    "collapsed": true
   },
   "outputs": [],
   "source": [
    "punctuation = \". , : ; ! ? - < > ' ''  ` `` -- .' ,' ?' !' * --'\".split() +\\\n",
    "',\" .\" ?\" !\" \"'.split()\n",
    "stops = nltk.corpus.stopwords.words('english')\n",
    "stops_punct = stops + punctuation"
   ]
  },
  {
   "cell_type": "markdown",
   "metadata": {},
   "source": [
    "### Exercise 4."
   ]
  },
  {
   "cell_type": "markdown",
   "metadata": {},
   "source": [
    "Read in the texts of the State of the Union addresses, using the state_union corpus reader. Count occurrences of men, women, and people in each document. What has happened to the usage of these words over time?"
   ]
  },
  {
   "cell_type": "code",
   "execution_count": 4,
   "metadata": {},
   "outputs": [
    {
     "name": "stdout",
     "output_type": "stream",
     "text": [
      "        men people  women \n",
      "1945      2     10      2 \n",
      "1946     12     49      7 \n",
      "1947      7     12      2 \n",
      "1948      5     22      1 \n",
      "1949      2     15      1 \n",
      "1950      6     15      2 \n",
      "1951      8     10      2 \n",
      "1953      3     17      0 \n",
      "1954      2     15      0 \n",
      "1955      4     26      0 \n",
      "1956      2     30      2 \n",
      "1957      5     11      2 \n",
      "1958      2     19      1 \n",
      "1959      4     11      1 \n",
      "1960      2     10      0 \n",
      "1961      6     10      0 \n",
      "1962      6     10      2 \n",
      "1963      8     15      5 \n",
      "1964      3      3      1 \n",
      "1965     19     30      3 \n",
      "1966     12     35      1 \n",
      "1967     11     25      1 \n",
      "1968      4     17      0 \n",
      "1969      5      6      2 \n",
      "1970      2     23      0 \n",
      "1971      1     32      0 \n",
      "1972      1      7      0 \n",
      "1973      1      9      0 \n",
      "1974      0     20      0 \n",
      "1975      0     14      0 \n",
      "1976      3     18      1 \n",
      "1977      2     19      1 \n",
      "1978      0     26      1 \n",
      "1979      0     15      1 \n",
      "1980      1     12      2 \n",
      "1981      1     11      1 \n",
      "1982      1     17      2 \n",
      "1983      3     19      7 \n",
      "1984      3     27      5 \n",
      "1985      1     12      1 \n",
      "1986      2     14      2 \n",
      "1987      1     24      0 \n",
      "1988      1     17      0 \n",
      "1989      2     13      3 \n",
      "1990      3      9      2 \n",
      "1991      9     27      9 \n",
      "1992      4     27      4 \n",
      "1993      1     45      2 \n",
      "1994      1     66      1 \n",
      "1995      1     73      3 \n",
      "1996      2     43      3 \n",
      "1997      1     31      2 \n",
      "1998      2     22      2 \n",
      "1999      2     22      3 \n",
      "2000      5     41      7 \n",
      "2001      4     27      6 \n",
      "2002      3     14      6 \n",
      "2003      6     33      4 \n",
      "2004      7     21      8 \n",
      "2005      8     18     11 \n",
      "2006      7     22      7 \n"
     ]
    }
   ],
   "source": [
    "su_cfd = ConditionalFreqDist(\n",
    "          (fileid[:4], target)\n",
    "          for fileid in state_union.fileids()\n",
    "          for word in state_union.words(fileid)\n",
    "          for target in ['men', 'women', 'people']          \n",
    "          if word.lower()== target          \n",
    ")\n",
    "su_cfd.tabulate()"
   ]
  },
  {
   "cell_type": "markdown",
   "metadata": {},
   "source": [
    "\"People\" siempre ha sido más usado que \"men\" and \"women\".  \n",
    "\n",
    "Antes de los finales de los 70, \"men\" era un poco más frecuente que \"women\", ya que en algunas ocasiones se utilizaba en lugar de \"people\".Sobre todo esto se nota en los discursos del presidente Johnson de los años 1965-1967.  \n",
    "\n",
    "A partir del 1978 y salvo alguna excepción, \"women\" es más usado que \"men\", ya que se menciona en el contexto de discriminación.   \n",
    "\n",
    "El pequeño repunte de \"men\" and \"women\" (en comparación con el uso de \"people\") en los años 2004-2006, durante el mandato de George W. Bush, podría tener que ver tanto con las preferencias lingüísticas del presidente como con la guerra en Irak, ya que en varias ocasiones \"our men and women\" se usa para referirse a los soldados luchando en Irak."
   ]
  },
  {
   "cell_type": "markdown",
   "metadata": {},
   "source": [
    "### Exercise 5"
   ]
  },
  {
   "cell_type": "markdown",
   "metadata": {},
   "source": [
    "Investigate the holonym-meronym relations for some nouns. Remember that there are three kinds of holonym-meronym relation, so you need to use: member_meronyms(), part_meronyms(), substance_meronyms(), member_holonyms(), part_holonyms(), and substance_holonyms()."
   ]
  },
  {
   "cell_type": "code",
   "execution_count": 5,
   "metadata": {},
   "outputs": [
    {
     "name": "stdout",
     "output_type": "stream",
     "text": [
      "nose.n.01 \t the organ of smell and entrance to the respiratory tract; the prominent part of the face of man or other mammals\n",
      "is member of [] \n",
      "its members are []\n",
      "is part of [Synset('face.n.01'), Synset('upper_respiratory_tract.n.01')] \n",
      "its parts are [Synset('bridge.n.04'), Synset('ethmoidal_artery.n.01'), Synset('internasal_suture.n.01'), Synset('nasal_cavity.n.01'), Synset('nostril.n.01'), Synset('turbinate_bone.n.01')]\n",
      "is as a substance used in [] \n",
      "is made of the following substances []\n",
      "\n",
      "\n",
      "telephone.n.01 \t electronic equipment that converts sound into electrical signals that can be transmitted over distances and then converts received signals back into sounds\n",
      "is member of [] \n",
      "its members are []\n",
      "is part of [Synset('telephone_system.n.01')] \n",
      "its parts are [Synset('mouthpiece.n.02'), Synset('telephone_receiver.n.01')]\n",
      "is as a substance used in [] \n",
      "is made of the following substances []\n",
      "\n",
      "\n",
      "tree.n.01 \t a tall perennial woody plant having a main trunk and branches forming a distinct elevated crown; includes both gymnosperms and angiosperms\n",
      "is member of [Synset('forest.n.01')] \n",
      "its members are []\n",
      "is part of [] \n",
      "its parts are [Synset('burl.n.02'), Synset('crown.n.07'), Synset('limb.n.02'), Synset('stump.n.01'), Synset('trunk.n.01')]\n",
      "is as a substance used in [] \n",
      "is made of the following substances [Synset('heartwood.n.01'), Synset('sapwood.n.01')]\n",
      "\n",
      "\n",
      "water.n.01 \t binary compound that occurs at room temperature as a clear colorless odorless tasteless liquid; freezes into ice below 0 degrees centigrade and boils above 100 degrees centigrade; widely used as a solvent\n",
      "is member of [] \n",
      "its members are []\n",
      "is part of [] \n",
      "its parts are []\n",
      "is as a substance used in [Synset('body_of_water.n.01'), Synset('ice.n.01'), Synset('ice_crystal.n.01'), Synset('perspiration.n.01'), Synset('snowflake.n.01'), Synset('tear.n.01')] \n",
      "is made of the following substances [Synset('hydrogen.n.01'), Synset('oxygen.n.01')]\n",
      "\n",
      "\n"
     ]
    }
   ],
   "source": [
    "my_synsets = [wn.synset('nose.n.01'), wn.synset('telephone.n.01'), wn.synset('tree.n.01'), wn.synset('water.n.01')]\n",
    "\n",
    "for synset in my_synsets:\n",
    "    print(synset.name(), '\\t', synset.definition())\n",
    "    print('is member of {} '.format(synset.member_holonyms()))\n",
    "    print('its members are {}'.format(synset.member_meronyms()))\n",
    "    print('is part of {} '.format(synset.part_holonyms()))\n",
    "    print('its parts are {}'.format(synset.part_meronyms()))\n",
    "    print('is as a substance used in {} '.format(synset.substance_holonyms()))\n",
    "    print('is made of the following substances {}'.format(synset.substance_meronyms()))\n",
    "    print('\\n')"
   ]
  },
  {
   "cell_type": "markdown",
   "metadata": {},
   "source": [
    "### Exercise 7"
   ]
  },
  {
   "cell_type": "markdown",
   "metadata": {},
   "source": [
    "According to Strunk and White's Elements of Style, the word however, used at the start of a sentence, means \"in whatever way\" or \"to whatever extent\", and not \"nevertheless\". They give this example of correct usage: However you advise him, he will probably do as he thinks best. (http://www.bartleby.com/141/strunk3.html) Use the concordance tool to study actual usage of this word in the various texts we have been considering. See also the LanguageLog posting \"Fossilized prejudices about 'however'\" at http://itre.cis.upenn.edu/~myl/languagelog/archives/001913.html"
   ]
  },
  {
   "cell_type": "code",
   "execution_count": 6,
   "metadata": {},
   "outputs": [
    {
     "name": "stdout",
     "output_type": "stream",
     "text": [
      "Category: adventure\n",
      "Displaying 1 of 1 matches:\n",
      "said . But suddenly those hot-honey eyes seemed to have everything but swarms of bees in them . However , when there's a job to be done , I'm a monstrosity of grim determination , I like to think . I\n",
      "None\n",
      "\n",
      "\n",
      "Category: belles_lettres\n",
      "Displaying 16 of 16 matches:\n",
      "sm was able to stave off the incipient socialist movement until well into the present century . However , in recent decades , for what doubtless are multiple reasons , an unannounced but nonetheless \n",
      "y and hit the Soviets without provocation ? ? Nobody can be absolutely certain of the answers . However , the system is designed , ingeniously and hopefully , so that no one man could initiate a ther\n",
      "mehow or other have survived and which naturally enough are called `` historical monuments '' . However , just as all the buildings have not fallen and flowed back to their original mud , so the valu\n",
      "r ? ? No , originally he had hoped to become a concert pianist and had even performed as such . However , when he assumed the duties of a conductor , he relinquished his career as a pianist . Five ye\n",
      "m tries not to cheat the chance method ; ; he adheres to its dictates as faithfully as he can . However , there is always the possibility that chance will make demands the dancers find impossible to \n",
      "ces of being thought queer ) the question has assumed some measurable properties of a command . However , for convenience we will stick to the idea that information can be classified according to Tab\n",
      "t replaced Mike Fink and the Great Gatsby with the anonymous physiognomy of the Little People . However , it is important to trace the philosophy of the French Revolution to its sources to understand\n",
      "d with such a crisis necessitates the introduction of new spiritual forces into the situation . However , the crisis occurs precisely as a weakening of spiritual forces . It would seem , therefore , \n",
      "onger innocent and therefore no longer helpless . Helpless in that sense I can never be again . However , I confess my hope that I will be innocent again , not with a pristine , accidental innocence \n",
      " But I insist upon believing that even when it is lost , it may , like paradise , be regained . However , it was not of innocence in general that I was speaking , but of perhaps the frailest and sure\n",
      "ill undoubtedly continue to reflect these confusions in the mind and usage of Gentile and Jew . However , in the context of legal and civic policy , these controversies are less than novel . They inv\n",
      "ouse suspicion that Massachusetts was behind the clouds settling down on the embattled Gorton . However , the General Court at Boston ordered the purchasers of Shawomet to appear before them to answe\n",
      " his admonishments to historians about the necessary tools or insights they needed to possess . However , as a practicing historian , he , himself , has left few clues to the amount of professional s\n",
      "rofessional historians lacked some of the essential instruments for a proper study of history . However , despite the insight of many of his observations , his own conclusions are open to suspicion b\n",
      "look at my bookshelves despairingly , knowing that I can have nothing more to do with them '' . However , at eighty-five , he had still been busy writing articles , reviewing and speaking , and I had\n",
      "er has been characterized by radical experiments with the form and presentation of his poetry . However , his subject matter and basic themes have remained surprisingly consistent , and these , toget\n",
      "None\n",
      "\n",
      "\n",
      "Category: editorial\n",
      "Displaying 8 of 8 matches:\n",
      "been most generally considered the most poetic and beautiful of all translations of the Bible . However , Biblical scholars frequently attested to its numerous inaccuracies , as old manuscripts were \n",
      "ed readings throughout the years , it will not survive the ages as has the King James Version . However , an initial perusal and comparison of some of the famous passages with the same parts of other\n",
      "owstorm we had , it was impossible for me to get medical attention needed during an emergency . However , the East Providence Rescue Squad made its way through to my home in time of desperation . Wor\n",
      "ort on my part to keep up with this mechanization which has brought about new ways of dialing . However , there are still several types of calls that necessitate the use of telephone operators . I ha\n",
      "andals , is fair and accurate in most respects and his solution to the problem has some merit . However , he states unequivocally `` the scandals in business are far less significant than the scandal\n",
      "for the enviable heritage of liberty which he enjoys . With this no loyal citizen can quarrel . However , it seems axiomatic that the government has an obligation `` to exercise its mandate reasonabl\n",
      "of the `` less interesting '' questions are edited out and glibly summarized by a commentator . However , last night the tapes were not run at all during the evening hours and all we got on TV were a\n",
      "summary . The radio stations did run `` transcripts '' ( I thought ) during the evening hours . However , by comparing the TV snatches , two different radio station re-runs , and the censored Los Ang\n",
      "None\n",
      "\n",
      "\n",
      "Category: fiction\n",
      "Displaying 2 of 2 matches:\n",
      "ns , Papa instructed him on man's chief end , which was his duty to God and his own salvation . However , a boy's lively eyes might rove . Where Cuddleback Brook purled into the Neversink was a magni\n",
      "r DeGroot , or Ringel , or any of the feverish crew that had so harassed him twelve hours ago . However , the litter remained , augmented by several dozen lunchroom suppers . The street cleaner had n\n",
      "None\n",
      "\n",
      "\n",
      "Category: government\n",
      "Displaying 16 of 16 matches:\n",
      "s are a controversial subject . They have a great advantage in ease of audit time and payment . However , they lend themselves to abuse and inadequate control measures . Flat payments over $50 per mo\n",
      "istol , Narragansett , Newport and Westerly ) place some value on some boats for tax purposes . However , few are taxed , and the owners and location of most boats are unknown to the assessors on the\n",
      " scope of this report to elaborate in any great detail upon special districts in Rhode Island . However , a word should be mentioned in regard to them as independent units of government . There are f\n",
      " remaining twelve states have varying fiscal years for the state , city and local governments . However , only Illinois , Oregon , Louisiana and Rhode Island have a situation in which the sundry unit\n",
      "s throughout the state indicates that transition may not be as painful as is commonly thought . However , it must be stressed that much depends upon the financial condition of the individual cities a\n",
      "are an enigma . Both have excellent integration of their fiscal tax collection year calendars . However , neither of these two cities is on the desired July 1 to June 30 fiscal year . The adjustment \n",
      "applicable in the determination of vapor pressures or temperatures for the bulk liquid helium . However , the surface temperature gradient can produce erroneous vapor-pressure measurements for the bu\n",
      "ts commuter operations by giving undue competitive advantages to the lines that wish to merge . However , there is a more profound consideration to this proposed merger than profit and loss . That is\n",
      "n a basement shelter when the radiation has decayed enough to allow use of the whole basement . However , as much time as possible should be spent within the shelter to hold radiation exposure to a m\n",
      "y and service were not overlooked by either Du Pont or General Motors '' . 353 U. S. , at 606 . However , it determined that neither this factor , nor `` the fact that all concerned in high executive\n",
      "d monopolization of , or attempts , combinations , or conspiracies to monopolize , such trade . However , this Court put to one side without consideration the Government's appeal from the dismissal o\n",
      "liability established . Thus , the need for the B-70 as a strategic weapon system is doubtful . However , I am recommending that development work on the B-70 air-frame and engines be continued . It i\n",
      "ut 2 hours after sunrise it reaches a point where it becomes of little practical significance . However , in this case as elsewhere it was necessary to arrive at a single standard to be applied to al\n",
      " were citizens of the United States . Their United States tax returns are due April 16 , 1962 . However , if their United States income is not subject to the withholding of tax on wages , their retur\n",
      "d and unless this trend can be reversed , our production for 1961 will be lower than for 1960 . However , the healthy inventory position of the textile industry lends support to the broadly expressed\n",
      ". The building will contain 430,000 square feet , approximately the same as our present plant . However , its modern one-story layout is designed to increase our production capacity , permit more eff\n",
      "None\n",
      "\n",
      "\n",
      "Category: hobbies\n"
     ]
    },
    {
     "name": "stdout",
     "output_type": "stream",
     "text": [
      "Displaying 16 of 16 matches:\n",
      " `` soft '' , and the people within them are ideally suited to destruction by nuclear weapons . However , because this vulnerability is mutual , it is to the advantage of neither side to destroy the \n",
      " we have an effective spacecraft , the answer to the hunter-killer problem is manned aircraft . However , the aircraft which we have today are tied to large , `` soft '' airfields . Nuclear rockets c\n",
      ", so is the carefree attitude toward what a boatman may and may not do ; ; must and should do . However , there is a minimum of legislative restriction on boating . Laws on boating vary according to \n",
      "ace as the work progresses to insure snug fitting . The order of fitting is not too important . However , we started with the first row of bars and worked our way back . Since the same method of shap\n",
      "d . They involve only simple mathematics that are taught in grammar school arithmetic classes . However , it is essential that the various mathematical symbols used in the equations be understood so \n",
      "ntry blanks for different events . When it is needed , one formula is as important as another . However , some formulas are used more than others . We'll take them in the general order of their popul\n",
      "ated in cubic centimeters ( cc. ) , making it necessary to convert the result to cubic inches . However , the displacement of the cylinder can be converted to cubic centimeters . The compression rati\n",
      "kday guided tours are available . Pictures can be taken in the public areas and when on tours . However , the use of tripods is not allowed . Photos of Conference Rooms and the General Assembly Hall \n",
      "work , it is best to have a qualified and experienced park planner to carry through the study . However , there is also much to be gained by making use of the abilities of the local people who are av\n",
      "n utility lines and the fact that your buildings have a useful radius equal in all directions . However , a narrow strip may be very practical for small developments , or to provide additional stream\n",
      "ional audience ; ; the later works were conceived to affirm a way of life for fellow citizens . However , in all of Prokofieff's music , young or mature , we find his profile -- his `` signature '' -\n",
      " a manner as possible , by flowing on the washes with as pure a color mixture as I can manage . However , first I thoughtfully study my sketch for improvement of color and design along the lines I ha\n",
      "ysics but was rejected because he was probably considered more a philosopher than a physicist . However , he continued experimenting and lecturing , publishing the results of his experiments in Germa\n",
      "ort loads , so as to maintain two-to-three weeks reserve supply against weather contingencies . However , that is not all he has to do . He must undertake complete servicing of the oilheating equipme\n",
      "y so , is an excellent way to see all the important places when everything is strange and new . However , after you've seen all the historical piazzas and plazas , the places and forums , the churche\n",
      "ars vary in the different countries in the same manner as they do for the drive-yourself cars . However , whether you arrange to have a European or American model , if you rent a car with the proper \n",
      "None\n",
      "\n",
      "\n",
      "Category: humor\n",
      "Displaying 3 of 3 matches:\n",
      "of our community who are mentally unhinged -- that he was a more or less harmless `` nut '' ! ! However while in his cell awaiting trial for theft , Barco , in a fit of apprehension , made an attempt\n",
      "ociety `` chi-chi '' in order to spend a cosy evening with Viola and her chaperon at her home . However , such a hotbed of gossip had grown up during the trial , that every precaution had to be taken\n",
      "is shoes for all the rice in China . There's some kind of a nemesis haunting his footsteps '' . However one looks at it , therefore , I'd say that your horoscope for this autumn is the reverse of ros\n",
      "None\n",
      "\n",
      "\n",
      "Category: learned\n",
      "Displaying 59 of 59 matches:\n",
      "The anode material was porous graphite . Sintered porous metals should be usable in principle . However , technical difficulties arise by melting at local hot spots . The experimental arrangement as \n",
      "ain the readings by several magnitudes . These experiments can be considered exploratory only . However , they do demonstrate the presence of large normal pressures in the presence of flat shear fiel\n",
      "published in the literature on the shape of low viscosity drops to confirm the above formulas . However , there are photographs of suspended drops of cyclohexanol phthalate ( viscosity 155 poises ) s\n",
      "es and distances are all within the expected limits and the volume per oxygen is about normal . However , the possible absence of a center of symmetry not only moves the hydrogen atom off Af , but al\n",
      ", where Af represents the oxygens on one side of the Af layers and Af those on the other side . However , any oxygen nonequivalence would shorten either the already extremely short Af interlayer dist\n",
      "l other impurities much lower . Chromium analysis gave 58.8% Cr as compared with 61.2% theory . However , Af adsorbs water from the atmosphere and this may account for the low chromium analysis and h\n",
      " The dirt on the soiled objects is mechanically held by surface irregularities to some extent . However , a major factor in binding dirt is the attraction between surfaces that goes under the name of\n",
      "s , a relation deduced from laboratory results linearly extrapolated to meteoritic velocities . However , one must expect that vaporization and ejection of material by hypervelocity impacts would cau\n",
      ".R. work . The threshold mass of about Af corresponds to a 10-M-diameter sphere of density Af . However , the conversion from mass to size is unreliable , since many photographic meteors give evidenc\n",
      " , a petroleum geologist of the Richmond Oil Company , and reported in 1944 by Emmett R. Dunn . However , as a field measurement , it is open to question . Oliver's 37-1/2 feet is partly based on thi\n",
      "uestion . Oliver's 37-1/2 feet is partly based on this report and can be accepted as probable . However , many herpetologists remain skeptical and would prefer a tentative maximum of about 30 feet . \n",
      "ying , Brooding , Hatching , and Birth ) , the latter on a `` normal '' newly born individual . However , as so many of the records are not certainly based on newborn snakes , these data must be take\n",
      "t been studied nor has the existence of corresponding physiologic differences been determined . However , the dynamics of airflow , from morphologic considerations alone , may conceivably be differen\n",
      " of this variation in distribution of the bronchial artery as found in the horse is not clear . However , this artery is known to be a nutrient vessel with a distribution primarily to the proximal ai\n",
      "ise mechanism for organification of iodine in the thyroid is not as yet completely understood . However , the formation of organically bound iodine , mainly mono-iodotyrosine , can be accomplished in\n",
      " with either Af and Af or NS and Af also showed only the light green nonspecific fluorescence . However , the nonspecific staining by the Af in tumor sections was considered bright enough to be confu\n",
      "or a few insulin comas or electroshocks , previously inhibited conditioned reactions reappear . However , if these procedures are applied more often , conditioned emotional responses are temporarily \n",
      " ; that is , one must know something about D other than the fact that it is a linear operator . However , one does not need to know very much . It is very easy to establish by induction on R that if \n",
      "ondence has K coincidences , each of which implies a line of the pencil which meets its image . However , since the pencil contains a secant of **zg it actually contains only Af singular lines . To a\n",
      "l component to account for the intersections of the images of the general lines of the pencil . However , if there is no additional complex of singular lines , the order of the image regulus of a pen\n",
      "ore - Negro marriages for core members act as indicators of expected adherence to group norms . However , because of Church laws , lately more stringently enforced , which forbid the marriage of cous\n",
      "vide for the study of roles of various types within the larger system or within the subgroups . However , it cannot be presumed , informal though the structure of the population seems , that there ar\n",
      "gregation mark off a group from the rest of the community , as in the case of this population . However , the factor of physical isolation is not a static situation . Although the Brandywine populati\n",
      "tained immediate responsibility for the collection and publication of demographic information . However , the statistical offices of both governments were assigned responsibility for the planning and\n",
      "ried out in connection with the administrative censuses , was used for the new investigations . However , the differences in procedure are fundamental . These are as follows : ( 1 ) field work proced\n",
      "half of the present functionally designed course was not really functional for these students . However , all admitted that the `` hindsight '' was not altogether lost . In their own words , it had a\n",
      "first had difficulty accepting for herself a state of being in which she relinquished control . However , she was able to relax and yield to the moment . It is our hypothesis that Kohnstamm-positive \n",
      "pected by his fellow engineers for his technical competence and was regarded as a `` comer '' . However , he turned out to be a complete failure in his new position . He seemed to antagonize everyone\n",
      "ort , as frequently happens in analyses , the individual feels threatened and defends himself . However , in this case the district manager was led to see the errors of his ways . The necessary step \n",
      ", or from one emotional state to another , may far exceed the small differences between tones . However , any such suggestion accounts for only some of the difficulties in hearing tone , or in develo\n",
      "ich flow into the Oder . The issue was left in abeyance , presumably for the peace conference . However , there was no real question of the justice of creating a strong Poland , both industrially and\n",
      "technical skill was used and the administration of the elections was generally above reproach . However , the regionally differentiated results , which appear below in tables , are interesting eviden\n",
      "though they must pay tuition , receive no subsistence payments , and are not guaranteed a job . However , there always is some limit to the numbers who will spend the time and effort to acquire train\n",
      "ot have to bear the cost of vocational training which would benefit employers in other states . However , if Federal funds are used , it would be entirely appropriate to train workers for jobs which \n",
      "s on Federal , state , and local bonds , as well as those on publicly offered corporate bonds . However , as witnessed by the large corporate bond calendar at present , as well as the record amount o\n",
      " would be a strong possibility , as well as an easier reserve position for the banking system . However , the monetary authorities will continue to be required to pay attention to the consequences of\n",
      "om it by extending their open market purchases regularly into long-term Government securities . However , to the extent that the monetary authorities , in their effort to ease credit in the next seve\n",
      "gher rate of household formation should enhance the general economic prospects of the Sixties . However , the impact of a rising rate of household formation this decade should not be exaggerated . Th\n",
      " in the basic wage rate are cost-raising , and they constitute an argument for raising prices . However , it is not known to either the union or the public precisely how much of a cost increase is ca\n",
      "issez-faire was a conscious policy . Law was seen as an emanation of the `` sovereign will '' . However , the sovereign was not Hobbes' absolute monarch but rather the parliamentary sovereign of Aust\n",
      "n acquiring grain-storage facilities to elect to continue amortization over a 60-month period . However , a similar privilege was not specifically provided in section 168 for a person acquiring emerg\n",
      ". Infrequently do we think of it as a living , continuing , operating control over the system . However , when labor disputes arise , its provisions come clearly into play . California has accepted t\n",
      "estraining order , directing us to resume referrals . We , of course , obeyed the court order . However , the Attorney General of California , at the request of the Secretary of Labor , sought to hav\n",
      "inantly a Federal issue since the validity of the Secretary's Regulation was being challenged . However , the Federal Court held that since the State had accepted the provisions of the Wagner-Peyser \n",
      "factors , the principal ones being the experiences of the first few years of the child's life . However , the teacher who understands the influence of emotions on behavior may be highly influential i\n",
      "or resistance to adult authority is noticeable ; ; after the fourth year it begins to decline . However , as we have seen , in later childhood the child begins to substitute the standards of the peer\n",
      "they might be expected to vote and work for middle- or for lower-class interests in education . However , there are relatively few such political constituencies , and , as has been pointed out , ther\n",
      "ical clearing house are manifest to any approach that does not descend to pure sensationalism . However , when philosophy attempts to stand above the sciences , to dictate the conditions of empirical\n",
      "arcel's Homo Viator and Heidegger's das Nichtige , this may seem a modest role for philosophy . However , modesty and triviality are different qualities . Philosophy conceived of as servant to the sc\n",
      "it systems cannot be maintained economically , let alone built from scratch at today's prices . However , the building of freeways and garages cannot continue forever . The new interchange among the \n",
      ". Criticality : Critical evaluation of all data compiled is not a primary aim of this project . However , the proposed correlation of the many interrelated properties of crystals will reveal discrepa\n",
      " 200,000 rads can extend the shelf life ( at 35 F ) of fresh beef from 5 days to 5 or 6 weeks . However , the problem of consumer acceptability remains . The preradiation blanching process discolors \n",
      "ion , and radiopasteurization might be thought to offer distinctly improved keeping qualities . However , a major problem here is one of scale of processing ; ; ground meats are usually prepared from\n",
      "film thickness , a straight line should result passing through the origin and having slope Af . However , in the actual assessment of the cutting force by instrumental methods for any thickness of co\n",
      "the multipactor principle appear to hold promise as far as obtainable resolution is concerned . However , the unavoidable low-duty cycle restricts the effective gain . TSEM tubes have been constructe\n",
      "tricts the effective gain . TSEM tubes have been constructed showing high gain and resolution . However , electrostatic focus , important for many applications , has not been realized for these devic\n",
      " of three integrating gyros . The system requires some switching of flight equipment circuits . However , the leveling operation can be maintained and controlled remotely with no mechanical or optica\n",
      " the effect of a small acceleration ( or small platform tilt angle ) can be seen after a time . However , skill is required on the part of an operator to level a platform to any degree of accuracy . \n",
      "tical difficulty does exist : the direction of true north must be known for each launch point . However , this difficulty is not too serious if it is realized that a surveying team can establish a tr\n",
      "None\n",
      "\n",
      "\n",
      "Category: lore\n"
     ]
    },
    {
     "name": "stdout",
     "output_type": "stream",
     "text": [
      "Displaying 21 of 21 matches:\n",
      "emies , could or would be willing to loose upon mankind such terrible and inhumane weapons . `` However , evidence that the Axis powers are making significant preparations indicative of such an inten\n",
      " understanding of dreams , enabling us to recognize their equivalents in our wakeful thoughts . However , readers who accept Freud's findings and believe that he has solved completely the mystery of \n",
      " this is standard equipment for a man of your day ; ; your stock in trade ; ; your livelihood . However , the last few years of your life , things seem to be changing . Your way doesn't seem to be so\n",
      "ies show that most tooth irregularity has at least its beginning in hereditary predisposition . However , this does not mean that a child's teeth or jaws must necessarily resemble those of someone in\n",
      "heir expression as strictly extra-sensory perception ( ESP ) , on this side of the `` veil '' . However that may be , people are known to go to mediums for diverse reasons . Perhaps they are mourning\n",
      "s this beyond-normal ability to put a finger on `` pre-conscious '' moods and to clarify them . However , in the next visit that the researcher made to the medium , he did not receive a personal read\n",
      "way to the moral and financial collapse of the municipal and county governments in 1928-29 '' . However , this inaugural feast did its sponsors no good whatever . O'Banion accepted his platinum watch\n",
      "lieved in maintaining their Jewish identity and even envisioned joining a synagogue or temple . However , they were hostile to Jewish Orthodoxy , professing to believe in Judaism `` but in a moderate\n",
      "hool , Jewish boys in this town make strenuous exertions to win positions on the school teams . However , in their junior and senior years , they generally forego their athletic pursuits , presumably\n",
      "utomatically assume that I'm in college '' , a nineteen-year-old machinist observed irritably . However , among the girls , there are some morale-enhancing compensations for not going to college . Th\n",
      "the college by bringing in unimpeachably midwestern types on the faculty have been unavailing . However , a growing intellectual sophistication and the new certitudes imparted by courses in psycholog\n",
      "r firms with integrity , the situation is ideal . It may , on occasion , be anything but that . However , by cultivating a wine dealer and accepting his advice , one will soon enough ascertain whethe\n",
      "l a college only and not a university ; ; it is , in fact , the only college in the Ivy group . However , three distinguished associated graduate schools offer professional curriculums -- the Dartmou\n",
      "o . It has not been a well-known school for any part of the span the other Ivies have enjoyed . However much football has been over-emphasized , the public likes to measure its collegiate favorites b\n",
      "rk . Undoubtedly far more can be done in the lower grades in this regard in the Negro schools . However , the teacher can only go so far if the attitude of the community and the family is anti-intell\n",
      "again he edged . The pony was sidewise to her . With a whirling jump , it could get into gear . However nothing on four legs was supposed to be faster than a lion over a short distance , unless it wa\n",
      "ctions , now comprehended by many national leaders , can be communicated to all congregations . However needed this may be , the fundamental problem is not information but active commitment to the to\n",
      "nd sources of their basic mistrust of their parents in particular and of the world in general . However , as Erickson has noted , the individual's failure to develop preliminary identities during inf\n",
      ", the individual was permitted to exercise initiative and encouraged to develop some autonomy . However , if the child has been constantly surrounded , during nursery and early school age , by peer g\n",
      "ng more than the usual , well-meaning rhetoric . And I was curious about the African reaction . However , the chaos on my desk prevented my being in the U.N. gallery . Had I been there , I , too , in\n",
      " certainly agrees with that statement , and would also affirm this -- in the order of justice . However , it is also a Christian insight to know that unless charity interpenetrates justice it is not \n",
      "None\n",
      "\n",
      "\n",
      "Category: mystery\n",
      "Displaying 3 of 3 matches:\n",
      "al detail was already at work in the parking lot scrutinizing automobiles for a possible lead . However , it was virtually impossible to screen the mob outside , even if Bonner had manpower available\n",
      " , unless Johnston and the murderer are one and the same '' . They discussed this possibility . However likely it was , Pauling said , he couldn't limit himself to it . He had to look for other prosp\n",
      "urrent , annoying dream , but now the dream was beginning to take on overtones of a nightmare . However , Haney knew it was not a dream . He might be very tight , but he knew where he was . It was th\n",
      "None\n",
      "\n",
      "\n",
      "Category: news\n",
      "Displaying 12 of 12 matches:\n",
      "ly accepted practices which inure to the best interest of both governments '' . Merger proposed However , the jury said it believes `` these two offices should be combined to achieve greater efficien\n",
      "d-home series with teams in its division , plus two games against teams in the other division . However , this would require a lengthening of the season from thirteen to fourteen weeks . Pete Rozelle\n",
      "in the Oak Park Arms hotel . Mrs. Hamm will not come from Vero Beach , Fla. , for the wedding . However , Mr. Parichy and his bride will go to Vero Beach on their wedding trip , and will stay in the \n",
      "veral fires in the Westphalia area by State Police . He also admitted killing Mrs. Hengesbach . However , the confession , which was the only evidence against him , was retracted before the trial . C\n",
      "equest , said they had no knowledge of such a letter , and that it was not in the Friday mail . However , three of the managers did say that they would agree to attend the proposed meeting if all of \n",
      "or the first time this year . Totaling 3,399 , sales jumped 14 per cent over February's 2,963 . However , compared with March 1960 new car sales of 4,441 , this March was off 23 per cent . On a quart\n",
      "e of the world's greatest camera firms , in a key address before the American Marketing Assn. . However , Peterson , president of Bell & Howell , warned 800 U.S. marketing leaders attending a nationa\n",
      "ows I have a big car and am capable of driving myself . The solution , naturally , is the bus . However , it's a half-mile walk down a steep hill from our house to the bus , and it's too hard on my l\n",
      "resenting the public interest . A secret conspiracy of manufacturers is hardly such a vehicle . However , one can argue that no such control is necessary as long as one pretends that the anti-trust l\n",
      "re moderates who were in no hurry for independence and wished to wait until the Congo grew up . However , the positions of all parties and leaders were constantly shifting . A final factor which cont\n",
      " the U.N. to get out of the Congo along with the Belgians , and appealed to Russia for help . ( However , there is little evidence that the late Lumumba was a Communist . Before appealing to the U.N.\n",
      " Standard & Poor's average . On balance , prices of those bonds have slipped a bit since then . However , in the same three-month period , toll-road bonds , as a group , have bucked this trend . On t\n",
      "None\n",
      "\n",
      "\n",
      "Category: religion\n",
      "Displaying 6 of 6 matches:\n",
      " he has inserted in the published text of the first act of the play , he says at one point : `` However , that experience never raised a doubt in his mind as to the reality of the underworld or the e\n",
      "ed is far more important for such infatuation than most of the pundits seem to have suspected . However , even if the latent demand for demythologization is not nearly as widespread as we are claimin\n",
      "are simply saying that at least this much of the liberal tradition is an enduring achievement . However much we may have to criticize liberal theology's constructive formulations , the theology we ou\n",
      "exposed to a contagion of fear more insidious than any conservative has ever to worry about ? ? However , there is a crucial difference between the two histories . Emerson evaded the problem by shovi\n",
      "voted to the Lo Shu and related numerical diagrams , especially in connection with divination . However , the wei books were also destroyed in a series of Orthodox Confucian purges which culminated i\n",
      "h Christian dedication will not so easily step through the back door because of lost interest . However , it is not enough to bring persons to Christian commitment and train them in the meaning of Ch\n",
      "None\n",
      "\n",
      "\n",
      "Category: reviews\n"
     ]
    },
    {
     "name": "stdout",
     "output_type": "stream",
     "text": [
      "Displaying 5 of 5 matches:\n",
      " on the highway , while representative music reinforced the mood of the late teens and 1920's . However well chosen and cleverly arranged , such memorabilia unfortunately amounted to more of an inter\n",
      "all translation from the German may not convey quite everything Mr. Remarque hoped to tell us . However , my principal objection in this sort of novel is to the hackneyed treatment of race-drivers , \n",
      "lieves that she can buy anything with dollars , and that she compulsively strives to be liked . However , she really does not know how to match the quantity of dollars given away by a quality of lead\n",
      "possibly have gone down in history as a political failure if it had not been for Hitler's war . However , Montgomery makes little contribution to leadership theory and practice . Most of what is said\n",
      "the contemporary scene . Like Eisenhower , he holds the militarist's suspicion of politicians . However , at the same time Montgomery selects as his hero De Gaulle , who is a militarist dominated by \n",
      "None\n",
      "\n",
      "\n",
      "Category: romance\n",
      "No matches\n",
      "None\n",
      "\n",
      "\n",
      "Category: science_fiction\n",
      "Displaying 2 of 2 matches:\n",
      " pressure without batting her calm blue eyes . The expense and time involved are astronomical . However , we sent a third vessel out , a much smaller and faster one than the first two . We have learn\n",
      "d unusual life , a far cry from what she would have faced as an ordinary , `` normal '' being . However , no diagram of her brain patterns , no early I.Q. tests recorded certain essential facts about\n",
      "None\n",
      "\n",
      "\n"
     ]
    }
   ],
   "source": [
    "for category in brown.categories():\n",
    "    text = brown.words(categories=category)\n",
    "    print(\"Category: {}\".format(category))\n",
    "    print (ConcordanceIndex(text).print_concordance(\"However\", width=200, lines=100))\n",
    "    print('\\n')\n",
    "        "
   ]
  },
  {
   "cell_type": "markdown",
   "metadata": {},
   "source": [
    "El método \"concordance\" de nltk es case-insensitive, por eso utilizo la clase ConcordanceIndex que sí permite sacar las concordancias solo para las palabras que empiezan en mayúsculas y así, es decir solo para los casos en los que \"however\" está al principio de una oración.  \n",
    "\n",
    "De los más de 170 casos de uso de \"however\" al inicio de una oración en el Brown Corpus, solo 8, bajo mi opinión, podrían ser sustituidos por \"to whatever extent\", lo que nos lleva a pensar que se trata de un uso no muy frecuente."
   ]
  },
  {
   "cell_type": "markdown",
   "metadata": {},
   "source": [
    "### Exercise 8."
   ]
  },
  {
   "cell_type": "markdown",
   "metadata": {},
   "source": [
    "Define a conditional frequency distribution over the Names corpus that allows you to see which initial letters are more frequent for males vs. females."
   ]
  },
  {
   "cell_type": "code",
   "execution_count": 7,
   "metadata": {},
   "outputs": [
    {
     "name": "stdout",
     "output_type": "stream",
     "text": [
      "There are 5001 female names\n",
      "There are 2943 male names\n",
      "         A   B   C   D   E   F   G   H   I   J   K   L   M   N   O   P   Q   R   S   T   U   V   W   X   Y   Z \n",
      "female 443 246 469 308 251 144 213 124  83 293 276 332 484 158  66 121   9 247 309 198  14 105  54   5  18  31 \n",
      "  male 213 173 166 146 119  87 156 163  45 144  70 113 200  77  52 101  15 200 238 188  22  50 151   7  16  31 \n"
     ]
    }
   ],
   "source": [
    "for fileid in names.fileids():\n",
    "    print(\"There are {} {} names\".format(len(names.words(fileid)), fileid[:-4]))\n",
    "\n",
    "gender_cfd = ConditionalFreqDist(\n",
    "          (fileid[:-4], first_name[0])\n",
    "          for fileid in names.fileids()\n",
    "          for first_name in names.words(fileid)              \n",
    ")\n",
    "gender_cfd.tabulate()"
   ]
  },
  {
   "cell_type": "markdown",
   "metadata": {},
   "source": [
    "Hay más nombres masculinos que femeninos en el corpus, por lo que si quisieramos comparar las frecuencias deberíamos primero haberlas normalizado. Sin embargo, a simple vista ya se puede ver que el porcentaje de nombres en \"H\", \"O\", \"Q\", \"T\", \"U\", \"W\", \"X\", \"Y\", \"Z\" entre los nombres masculinos es más elevado que entre los femeninos."
   ]
  },
  {
   "cell_type": "markdown",
   "metadata": {},
   "source": [
    "### Exercise 9"
   ]
  },
  {
   "cell_type": "markdown",
   "metadata": {},
   "source": [
    "Pick a pair of texts and study the differences between them, in terms of vocabulary, vocabulary richness, genre, etc. Can you find pairs of words which have quite different meanings across the two texts, such as monstrous in Moby Dick and in Sense and Sensibility?"
   ]
  },
  {
   "cell_type": "code",
   "execution_count": 8,
   "metadata": {},
   "outputs": [
    {
     "name": "stdout",
     "output_type": "stream",
     "text": [
      "                          tokens     types      diversity  stopwords \n",
      "chesterton-thursday.txt   69213      6807       0.1        0.39      \n",
      "carroll-alice.txt         34110      3016       0.09       0.38      \n",
      "\n",
      "\n",
      "\n",
      "Collocations:  chesterton-thursday.txt\n",
      "said Syme; asked Syme; Saffron Park; Comrade Gregory; Leicester\n",
      "Square; Colonel Ducroix; red hair; old gentleman; could see; Inspector\n",
      "Ratcliffe; Anarchist Council; blue card; Scotland Yard; dark room;\n",
      "blue eyes; common sense; straw hat; hundred yards; said Gregory; run\n",
      "away; first time; Supreme Council; white road; old man; looked like;\n",
      "police station; burning gold; Gabriel Syme; low voice; waistcoat\n",
      "pocket; young man; grew larger; Baker Street; Chinese lanterns; right\n",
      "enough\n",
      "None\n",
      "\n",
      "\n",
      "\n",
      "Collocations:  carroll-alice.txt\n",
      "Mock Turtle; said Alice; March Hare; White Rabbit; thought Alice;\n",
      "golden key; beautiful Soup; white kid; good deal; kid gloves; Mary\n",
      "Ann; yer honour; three gardeners; play croquet; Lobster Quadrille;\n",
      "ootiful Soo; great hurry; old fellow; trembling voice; poor little;\n",
      "next witness; feet high; poor Alice; inches high; young lady; offended\n",
      "tone; right size; Cheshire Cat; little golden; another moment; fast\n",
      "asleep; little thing; Alice replied; dead silence; half hoping\n",
      "None\n",
      "\n",
      "\n",
      "\n",
      "[('syme', 519), ('said', 507), ('man', 276), ('like', 264), ('one', 199), ('could', 151), ('professor', 149), ('would', 120), ('face', 119), ('gregory', 112), ('bull', 110), ('see', 99), ('sunday', 98), ('old', 97), ('men', 91), ('seemed', 91), ('even', 90), ('little', 85), ('great', 85), ('quite', 83), ('dr', 83), ('us', 80), ('say', 80), ('know', 80), ('well', 78), ('looked', 77), ('black', 75), ('long', 75), ('asked', 75), ('came', 74), ('two', 74), ('still', 74), ('eyes', 74), ('upon', 73), ('first', 73), ('might', 73), ('president', 72), ('think', 71), ('almost', 71), ('marquis', 71), ('cried', 70), ('never', 69), ('time', 69), ('went', 68), ('good', 67), ('thing', 67), ('secretary', 67), ('last', 65), ('saw', 64), ('really', 63)]\n",
      "\n",
      "\n",
      "\n",
      "[('said', 462), ('alice', 398), ('little', 128), ('one', 104), ('know', 88), ('like', 85), ('would', 83), ('went', 83), ('could', 77), ('queen', 75), ('thought', 74), ('time', 71), ('see', 67), ('well', 63), ('m', 63), ('king', 63), ('turtle', 59), ('began', 58), ('ll', 57), ('way', 56), ('hatter', 56), ('mock', 56), ('quite', 55), ('gryphon', 55), ('think', 53), ('rabbit', 51), ('much', 51), ('say', 51), ('first', 51), ('(', 50), ('head', 50), ('go', 50), ('thing', 49), ('never', 48), ('voice', 48), ('get', 46), ('come', 46), ('oh', 45), ('looked', 45), ('got', 45), ('ve', 44), ('must', 44), ('mouse', 44), ('duchess', 42), ('round', 41), ('came', 40), ('two', 40), ('tone', 40), ('dormouse', 40), ('great', 39)]\n",
      "\n",
      "\n",
      "\n",
      "rich :  chesterton-thursday.txt\n",
      "Displaying 12 of 12 matches:\n",
      " and barren ; and there is anarchy , rich , living , reproducing itself -- the\n",
      " felt somehow that the man carried a rich atmosphere with him , a rich atmosph\n",
      "rried a rich atmosphere with him , a rich atmosphere that suffocated . It remi\n",
      "eal church parade of apparel and the rich and glistening meadow , growing wild\n",
      "rvation or German philosophy , but a rich and powerful and fanatical church , \n",
      "lly has a stake in the country . The rich man hasn ' t ; he can go away to New\n",
      "jected to being governed badly ; the rich have always objected to being govern\n",
      "id the Colonel ; \" that is why he is rich .\" \" I have an idea ,\" called out Dr\n",
      "t be useful . \" Four out of the five rich men in this town ,\" he said , \" are \n",
      "stic , and , what ' s worse , he ' s rich . When duty and religion are really \n",
      "really destroyed , it will be by the rich .\" \" They are really destroyed now ,\n",
      "d very vaguely he realised into what rich roads the carriage was carrying him \n",
      "None\n",
      "\n",
      "\n",
      "\n",
      "rich :  carroll-alice.txt\n",
      "Displaying 1 of 1 matches:\n",
      " sing this :-- ' Beautiful Soup , so rich and green , Waiting in a hot tureen \n",
      "None\n",
      "\n",
      "\n",
      "\n",
      "poor :  chesterton-thursday.txt\n",
      "Displaying 18 of 18 matches:\n",
      "at a fool could see that I was quite poor . Then I tried being a major . Now I\n",
      "of the help of the police . You , my poor fellow , are an anarchist deprived o\n",
      "solid as ever , looking out for some poor harmless tramp whom you could move o\n",
      " on . You policemen are cruel to the poor , but I could forgive you even your \n",
      "w that our ordinary treatment of the poor criminal was a pretty brutal busines\n",
      "nd ignominious , the harrying of the poor , the spying upon the unfortunate . \n",
      "y , and the irrational valour of the poor , who in all those unclean streets w\n",
      "e feeble . But I won . An old man in poor health , like my rival , could not b\n",
      "to drown myself first . I promised a poor fellow , who was a real modern pessi\n",
      " anarchy came it would come from the poor . Why should it ? The poor have been\n",
      " from the poor . Why should it ? The poor have been rebels , but they have nev\n",
      "e being some decent government . The poor man really has a stake in the countr\n",
      " away to New Guinea in a yacht . The poor have sometimes objected to being gov\n",
      "peasants being wealthy .\" \" He looks poor ,\" said Dr . Bull doubtfully . \" Qui\n",
      " the sincerity of his virtue . \" The poor chaps may be making a mistake . Give\n",
      "people took the boat for Dover . The poor old Colonel might have had some caus\n",
      "he other stranger breathlessly , \" a poor old gentleman with white hair ! \" \" \n",
      " is not a creed , it is a doubt . My poor dear Bull , I do not believe that yo\n",
      "None\n",
      "\n",
      "\n",
      "\n",
      "poor :  carroll-alice.txt\n",
      "Displaying 25 of 27 matches:\n",
      " my head would go through ,' thought poor Alice , ' it would be of very little\n",
      " the garden at once ; but , alas for poor Alice ! when she got to the door , s\n",
      " tired herself out with trying , the poor little thing sat down and cried . ' \n",
      ". ' But it ' s no use now ,' thought poor Alice , ' to pretend to be two peopl\n",
      "were getting so far off ). ' Oh , my poor little feet , I wonder who will put \n",
      "and hurried off to the garden door . Poor Alice ! It was as much as she could \n",
      "hose are not the right words ,' said poor Alice , and her eyes filled with tea\n",
      "s are worse than ever ,' thought the poor child , ' for I never was so small a\n",
      "stily , afraid that she had hurt the poor animal ' s feelings . ' I quite forg\n",
      "e !' ' I didn ' t mean it !' pleaded poor Alice . ' But you ' re so easily off\n",
      "ll ever see you any more !' And here poor Alice began to cry again , for she f\n",
      "s much pleasanter at home ,' thought poor Alice , ' when one wasn ' t always g\n",
      "mals and birds waiting outside . The poor little Lizard , Bill , was in the mi\n",
      "ut one paw , trying to touch her . ' Poor little thing !' said Alice , in a co\n",
      " But I ' m not used to it !' pleaded poor Alice in a piteous tone . And she th\n",
      "VE my shoulders got to ? And oh , my poor hands , how is it I can ' t see you \n",
      "baby violently up and down , and the poor little thing howled so , that Alice \n",
      "a star - fish ,' thought Alice . The poor little thing was snorting like a ste\n",
      "ore to do with you . Mind now !' The poor little thing sobbed again ( or grunt\n",
      "- well in .' This answer so confused poor Alice , that she let the Dormouse go\n",
      "n they both sat silent and looked at poor Alice , who felt ready to sink into \n",
      "way . She did it so quickly that the poor little juror ( it was Bill , the Liz\n",
      "you ' re nervous or not .' ' I ' m a poor man , your Majesty ,' the Hatter beg\n",
      " me for a dunce ? Go on !' ' I ' m a poor man ,' the Hatter went on , ' and mo\n",
      "nd went down on one knee . ' I ' m a poor man , your Majesty ,' he began . ' Y\n",
      "None\n",
      "\n",
      "\n",
      "\n"
     ]
    }
   ],
   "source": [
    "files = ['chesterton-thursday.txt', 'carroll-alice.txt']\n",
    "texts = [Text(gutenberg.words(file), file) for file in files]\n",
    "words = \"rich poor\".split()\n",
    "row_format = '{:<25} {:<10} {:<10} {:<10} {:<10}'\n",
    "\n",
    "def text_richness(file):\n",
    "    tokens = len(text)\n",
    "    types = len(set(text))\n",
    "    lexical_diversity = round(types/tokens, 2)\n",
    "    stops_num = 0\n",
    "    for word in text:\n",
    "        if word in stops:\n",
    "            stops_num += 1\n",
    "    stops_part = round(stops_num/tokens, 2)\n",
    "    return(tokens, types, lexical_diversity, stops_part)\n",
    "\n",
    "def get_dist(text, stops=None):\n",
    "    text = [w.lower() for w in text]\n",
    "    if stops:\n",
    "        text = [w for w in text if w not in stops_punct]\n",
    "    fdist = FreqDist(text)\n",
    "    return fdist\n",
    "\n",
    "def get_collocations(text):\n",
    "    return text.collocations(35)\n",
    "\n",
    "def get_concordance(word, text):\n",
    "    return text.concordance(word)\n",
    "    \n",
    "    \n",
    "print(row_format.format('', 'tokens', 'types', 'diversity', 'stopwords'))\n",
    "\n",
    "for text in texts:\n",
    "    tokens, types, lexical_diversity, stops_part = text_richness(text)\n",
    "    print(row_format.format(text.name, tokens, types, lexical_diversity, stops_part))\n",
    "\n",
    "print('\\n\\n')\n",
    "\n",
    "for text in texts:\n",
    "    print(\"Collocations: \", text.name)\n",
    "    print(get_collocations(text))\n",
    "    print ('\\n\\n')\n",
    "\n",
    "for text in texts:\n",
    "    print(get_dist(text, stops + punctuation).most_common(50))\n",
    "    print ('\\n\\n')\n",
    "    \n",
    "for word in words:\n",
    "    for text in texts:\n",
    "        print(word, ': ', text.name)\n",
    "        print(get_concordance(word, text))\n",
    "        print('\\n\\n')"
   ]
  },
  {
   "cell_type": "markdown",
   "metadata": {},
   "source": [
    "He comparado \"The Man Who Was Thursday\" de Chesterton con \"Alice in Wonderland\" de Carrol.\n",
    "\n",
    "Los textos tienen unos índices de diversidad léxica casi idénticos (0,1 y 0,09) y la parte del texto ocupada por stopwords también es casi la misma (0.39 y 0.38).\n",
    "\n",
    "De las colocaciones de \"The Man Who Was Thursday\" se desprende que se podría tratar de una novela policíaca (\"Inspector Ratcliffe\", \"Scotland Yard\", \"police station\"). Y basándonos en las colocaciones de \"Alice\", podemos deducir que muchos de los personajes son animales (\"Mock Turtle\", \"March Hare\", etc.), por lo que debería tratarse de un cuento fantástico. También algunas colocaciones parecen indicar que en el libro hay mucho diálogo (\"said Alice\", \"trembling voice\", \"dead silence\", \"yer honor\", \"Alice replied\").\n",
    "\n",
    "Finalmente he mirado las concordancias de \"rich\" and \"poor\" en los dos textos. En el texto de Chesterton ambas palabras se usan tanto en relación con la situación económica de una persona o entidad (\"rich man\", \"the poor have been rebels\"), como en el sentido figurativo de \"abundante\" o \"suntuoso\" para \"rich\" (\"rich athmosphere\") y de desgraciado para \"poor\" (\"poor old Colonel\"). En el libro de Carrol la riqueza material, al parecer, no tiene mucha transcendencia. \"Rich\" se usa solo una vez para hablar de la sopa, mientras que \"poor\" se utiliza 27 veces y casi siempre para expresar compasión (\"poor Alice\", \"poor little things\", \"my poor hands\")."
   ]
  },
  {
   "cell_type": "markdown",
   "metadata": {},
   "source": [
    "### Exercise 10"
   ]
  },
  {
   "cell_type": "markdown",
   "metadata": {},
   "source": [
    "Read the BBC News article: UK's Vicky Pollards 'left behind' http://news.bbc.co.uk/1/hi/education/6173441.stm. The article gives the following statistic about teen language: \"the top 20 words used, including yeah, no, but and like, account for around a third of all words.\" How many word types account for a third of all word tokens, for a variety of text sources? What do you conclude about this statistic? Read more about this on LanguageLog, at http://itre.cis.upenn.edu/~myl/languagelog/archives/003993.html."
   ]
  },
  {
   "cell_type": "code",
   "execution_count": 9,
   "metadata": {},
   "outputs": [
    {
     "name": "stdout",
     "output_type": "stream",
     "text": [
      "Category: adventure. \n",
      "Number of types in category: 8158. \n",
      "Word types accounting for 1/3 of tokens: 239.\n",
      "% of types accounting for 1/3 of tokens: 0.03.\n",
      "\n",
      "Category: belles_lettres. \n",
      "Number of types in category: 16923. \n",
      "Word types accounting for 1/3 of tokens: 413.\n",
      "% of types accounting for 1/3 of tokens: 0.02.\n",
      "\n",
      "Category: editorial. \n",
      "Number of types in category: 8977. \n",
      "Word types accounting for 1/3 of tokens: 345.\n",
      "% of types accounting for 1/3 of tokens: 0.04.\n",
      "\n",
      "Category: fiction. \n",
      "Number of types in category: 8547. \n",
      "Word types accounting for 1/3 of tokens: 257.\n",
      "% of types accounting for 1/3 of tokens: 0.03.\n",
      "\n",
      "Category: government. \n",
      "Number of types in category: 7233. \n",
      "Word types accounting for 1/3 of tokens: 242.\n",
      "% of types accounting for 1/3 of tokens: 0.03.\n",
      "\n",
      "Category: hobbies. \n",
      "Number of types in category: 10690. \n",
      "Word types accounting for 1/3 of tokens: 390.\n",
      "% of types accounting for 1/3 of tokens: 0.04.\n",
      "\n",
      "Category: humor. \n",
      "Number of types in category: 4622. \n",
      "Word types accounting for 1/3 of tokens: 271.\n",
      "% of types accounting for 1/3 of tokens: 0.06.\n",
      "\n",
      "Category: learned. \n",
      "Number of types in category: 15341. \n",
      "Word types accounting for 1/3 of tokens: 394.\n",
      "% of types accounting for 1/3 of tokens: 0.03.\n",
      "\n",
      "Category: lore. \n",
      "Number of types in category: 13268. \n",
      "Word types accounting for 1/3 of tokens: 436.\n",
      "% of types accounting for 1/3 of tokens: 0.03.\n",
      "\n",
      "Category: mystery. \n",
      "Number of types in category: 6331. \n",
      "Word types accounting for 1/3 of tokens: 184.\n",
      "% of types accounting for 1/3 of tokens: 0.03.\n",
      "\n",
      "Category: news. \n",
      "Number of types in category: 12980. \n",
      "Word types accounting for 1/3 of tokens: 392.\n",
      "% of types accounting for 1/3 of tokens: 0.03.\n",
      "\n",
      "Category: religion. \n",
      "Number of types in category: 5798. \n",
      "Word types accounting for 1/3 of tokens: 228.\n",
      "% of types accounting for 1/3 of tokens: 0.04.\n",
      "\n",
      "Category: reviews. \n",
      "Number of types in category: 7938. \n",
      "Word types accounting for 1/3 of tokens: 392.\n",
      "% of types accounting for 1/3 of tokens: 0.05.\n",
      "\n",
      "Category: romance. \n",
      "Number of types in category: 7751. \n",
      "Word types accounting for 1/3 of tokens: 205.\n",
      "% of types accounting for 1/3 of tokens: 0.03.\n",
      "\n",
      "Category: science_fiction. \n",
      "Number of types in category: 2903. \n",
      "Word types accounting for 1/3 of tokens: 187.\n",
      "% of types accounting for 1/3 of tokens: 0.06.\n",
      "\n"
     ]
    }
   ],
   "source": [
    "categories = ['adventure', 'belles_lettres', 'editorial', 'fiction', 'government', 'hobbies',\n",
    "'humor', 'learned', 'lore', 'mystery', 'news', 'religion', 'reviews', 'romance',\n",
    "'science_fiction']\n",
    "\n",
    "\n",
    "def types_in_part(fdist, n):\n",
    "    # Set the number of tokens corresponding to n% of all the tokens\n",
    "    mark = fdist.N() * n\n",
    "    tokens = 0\n",
    "    for count, (word, freq) in enumerate(fdist.most_common()):\n",
    "        tokens += freq\n",
    "        if tokens >= mark:\n",
    "            types_number = count + 1\n",
    "            break\n",
    "    return types_number\n",
    "\n",
    "brown_cfdist = ConditionalFreqDist(\n",
    "        (category, word.lower())\n",
    "        for category in categories\n",
    "        for word in brown.words(categories=category)\n",
    "        if word.lower() not in stops_punct\n",
    "    )\n",
    "\n",
    "for fdist in brown_cfdist:\n",
    "    length = len(brown_cfdist[fdist])\n",
    "    types = types_in_part(brown_cfdist[fdist], 0.33)\n",
    "    print(\"Category: {}. \\nNumber of types in category: {}. \"\n",
    "          \"\\nWord types accounting for 1/3 of tokens: {}.\"\n",
    "          \"\\n% of types accounting for 1/3 of tokens: {}.\\n\"\n",
    "          .format(fdist, length, types, round(types/length,2)))\n",
    "    "
   ]
  },
  {
   "cell_type": "markdown",
   "metadata": {},
   "source": [
    "Creo que para poder comparar estos números deberíamos ver el porcentaje y no el número absoluto de los types que forman 1/3 de los tokens.  \n",
    "\n",
    "Parece que \"science fiction\", \"humor\" y \"reviews\" son las categorías en las que las palabras más comunes ocupan un menor porcentaje del número total de tokens. Por el momento, no se me ocurre ninguna explicación."
   ]
  },
  {
   "cell_type": "markdown",
   "metadata": {},
   "source": [
    "### Exercise 13"
   ]
  },
  {
   "cell_type": "markdown",
   "metadata": {},
   "source": [
    "What percentage of noun synsets have no hyponyms? You can get all noun synsets using wn.all_synsets('n')."
   ]
  },
  {
   "cell_type": "code",
   "execution_count": 10,
   "metadata": {},
   "outputs": [
    {
     "name": "stdout",
     "output_type": "stream",
     "text": [
      "79.67 percent of nouns have no hyponyms.\n"
     ]
    }
   ],
   "source": [
    "all_sets = list(wn.all_synsets('n'))\n",
    "hypless = 0\n",
    "\n",
    "for synset in all_sets:\n",
    "    if not len(synset.hyponyms()):\n",
    "        hypless += 1\n",
    "   \n",
    "print('{} percent of nouns have no hyponyms.'.format(round(hypless/len(all_sets)*100, 2)))"
   ]
  },
  {
   "cell_type": "markdown",
   "metadata": {},
   "source": [
    "### Exercise 14"
   ]
  },
  {
   "cell_type": "markdown",
   "metadata": {},
   "source": [
    "Define a function supergloss(s) that takes a synset s as its argument and returns a string consisting of the concatenation of the definition of s, and the definitions of all the hypernyms and hyponyms of s."
   ]
  },
  {
   "cell_type": "code",
   "execution_count": 11,
   "metadata": {},
   "outputs": [
    {
     "name": "stdout",
     "output_type": "stream",
     "text": [
      "a set of data arranged in rows and columns\n",
      " an orderly arrangement\n",
      " a table of statistical data\n",
      " a tabular array of the days (usually for one year)\n",
      " a list of divisions (chapters or articles) and the pages on which they start\n",
      " a two-way tabulation of the relations between correlates; row headings are the scores on one variable and column headings are the scores on the second variables and a cell shows how many times the score on that row was associated with the score in that column\n",
      " the part of a floppy disk or hard disk where information is stored about the location of each piece of information on the disk (and about the location of unusable areas of the disk)\n",
      " (chemistry) a tabular arrangement of the chemical elements according to atomic number as based on the periodic law\n"
     ]
    }
   ],
   "source": [
    "def supergloss(s):\n",
    "    data = []\n",
    "    data.append(s.definition())\n",
    "    for nyms in [s.hypernyms(), s.hyponyms()]:\n",
    "        for synset in nyms:\n",
    "            data.append(synset.definition())\n",
    "    return '\\n '.join(data)\n",
    "\n",
    "print(supergloss(wn.synset('table.n.01')))\n",
    "    "
   ]
  },
  {
   "cell_type": "markdown",
   "metadata": {},
   "source": [
    "### Exercise 15"
   ]
  },
  {
   "cell_type": "markdown",
   "metadata": {},
   "source": [
    "Write a program to find all words that occur at least three times in the Brown Corpus."
   ]
  },
  {
   "cell_type": "code",
   "execution_count": 12,
   "metadata": {},
   "outputs": [
    {
     "name": "stdout",
     "output_type": "stream",
     "text": [
      "There are 20615 words that occur at least 3 times in the Brown corpus.\n"
     ]
    }
   ],
   "source": [
    "def word_occurence(text, min_freq):\n",
    "    text = [w.lower() for w in text]\n",
    "    fdist = FreqDist(text)\n",
    "    common_words = sorted([w for w in set(text) if fdist[w] >= min_freq])\n",
    "    return common_words\n",
    "\n",
    "brown_3 = word_occurence(brown.words(), 3)\n",
    "print(\"There are {} words that occur at least 3 times in the Brown corpus.\".format(len(brown_3)))"
   ]
  },
  {
   "cell_type": "markdown",
   "metadata": {},
   "source": [
    "### Ejercicio 16"
   ]
  },
  {
   "cell_type": "markdown",
   "metadata": {},
   "source": [
    "Write a program to generate a table of lexical diversity scores (i.e. token/type ratios), as we saw in 1.1. Include the full set of Brown Corpus genres (nltk.corpus.brown.categories()). Which genre has the lowest diversity (greatest number of tokens per type)? Is this what you would have expected?"
   ]
  },
  {
   "cell_type": "code",
   "execution_count": 13,
   "metadata": {},
   "outputs": [
    {
     "name": "stdout",
     "output_type": "stream",
     "text": [
      "adventure 0.128 69342\n",
      "belles_lettres 0.106 173096\n",
      "editorial 0.161 61604\n",
      "fiction 0.136 68488\n",
      "government 0.117 70117\n",
      "hobbies 0.145 82345\n",
      "humor 0.231 21695\n",
      "learned 0.093 181888\n",
      "lore 0.131 110299\n",
      "mystery 0.122 57169\n",
      "news 0.143 100554\n",
      "religion 0.162 39399\n",
      "reviews 0.212 40704\n",
      "romance 0.121 70022\n",
      "science_fiction 0.223 14470\n"
     ]
    }
   ],
   "source": [
    "categories = nltk.corpus.brown.categories()\n",
    "for category in brown.categories():\n",
    "    words = brown.words(categories=category)\n",
    "#     words = [word.lower() for word in words]\n",
    "    lexical_diversity =  len(set(words)) / len(words)\n",
    "    print(category, round(lexical_diversity, 3), len(words))"
   ]
  },
  {
   "cell_type": "markdown",
   "metadata": {},
   "source": [
    "Las tres categorías con menor diversidad léxica son las de \"learned\", \"belles lettres\" y \"government\". Para \"government\" esto se podría explicar por el hecho de que se trata de un área muy específica que excluye casi por completo el uso de vocabulario propio del lenguaje coloquial, periodístico, etc. En el caso de \"government\" y \"learned\" la única explicación que se me ocurre es que los dos son de mayor extensión que el resto de los subcorpous de Brown (un texto de 10000 tendría una menor diversidad léxica que uno de 100). De este mismo modo podríamos explicar la diversidad en las categorías de \"science fiction\", \"reviews\" y \"religion\"."
   ]
  },
  {
   "cell_type": "markdown",
   "metadata": {
    "collapsed": true
   },
   "source": [
    "### Exercise 17"
   ]
  },
  {
   "cell_type": "markdown",
   "metadata": {},
   "source": [
    "Write a function that finds the 50 most frequently occurring words of a text that are not stopwords."
   ]
  },
  {
   "cell_type": "code",
   "execution_count": 14,
   "metadata": {},
   "outputs": [
    {
     "data": {
      "text/plain": [
       "[(',', 3654), ('.', 3639), ('``', 703), (\"''\", 698), ('?', 564), (';', 318), ('would', 287), ('!', 284), ('said', 192), ('--', 176), ('one', 168), ('could', 166), ('like', 147), ('man', 111), ('back', 102), ('time', 99), ('came', 91), (':', 84), ('little', 81), ('went', 79), ('get', 78), ('thought', 76), ('old', 75), ('know', 75), ('go', 72), ('men', 72), ('looked', 72), ('around', 71), ('never', 71), ('two', 68), ('room', 63), ('way', 62), ('eyes', 60), ('made', 60), ('knew', 59), ('face', 58), ('felt', 58), ('saw', 58), ('even', 57), ('see', 57), ('good', 55), ('seemed', 55), ('still', 55), (\"don't\", 55), ('come', 55), ('away', 55), ('must', 55), ('house', 54), ('head', 54), ('long', 53)]"
      ]
     },
     "execution_count": 14,
     "metadata": {},
     "output_type": "execute_result"
    }
   ],
   "source": [
    "def most_frequent_50(text):\n",
    "    text = [word for word in text if word.lower() not in stops]\n",
    "    fdist = FreqDist(text)\n",
    "    return fdist.most_common(50)\n",
    "\n",
    "most_frequent_50(brown.words(categories='fiction'))"
   ]
  },
  {
   "cell_type": "markdown",
   "metadata": {},
   "source": [
    "### Exercise 18"
   ]
  },
  {
   "cell_type": "markdown",
   "metadata": {},
   "source": [
    "Write a program to print the 50 most frequent bigrams (pairs of adjacent words) of a text, omitting bigrams that contain stopwords."
   ]
  },
  {
   "cell_type": "code",
   "execution_count": 15,
   "metadata": {},
   "outputs": [
    {
     "data": {
      "text/plain": [
       "[(('Linda', 'Kay'), 17), (('Bobby', 'Joe'), 15), (('Miss', 'Ada'), 15), (('could', 'see'), 14), ((\"don't\", 'know'), 13), (('old', 'man'), 12), (('Simms', 'Purdew'), 12), (('Big', 'Hans'), 12), (('Mr.', 'Jack'), 12), (('New', 'York'), 10), (('Uncle', 'Randolph'), 9), (('living', 'room'), 8), ((\"didn't\", 'know'), 8), ((\"don't\", 'care'), 8), (('would', 'say'), 7), (('Cousin', 'Simmons'), 7), (('Pedersen', 'kid'), 7), (('Mr.', 'McKinley'), 6), (('would', 'come'), 6), (('Amen', 'corner'), 6), (('Kent', 'House'), 6), (('one', 'thing'), 6), (('looked', 'like'), 6), (('came', 'back'), 6), (('Jean', 'Jacques'), 6), (('Rector', 'said'), 6), (('Mrs.', 'Pastern'), 6), (('Mr.', 'Flannagan'), 6), ((\"I've\", 'never'), 6), (('never', 'done'), 6), (('young', 'man'), 5), (('front', 'door'), 5), (('machine', 'gun'), 5), (('Vice', 'President'), 5), (('Black', 'Bottom'), 5), (('ten', 'years'), 5), (('nigger', 'boy'), 5), (('Harry', 'Hawk'), 5), (('looked', 'around'), 5), (('would', 'make'), 5), (('first', 'time'), 5), (('come', 'back'), 5), (('always', 'said'), 5), (('fille', 'de'), 5), (('Scotty', 'said'), 4), (('take', 'place'), 4), (('would', 'happen'), 4), (('Presiding', 'Elder'), 4), (('sat', 'beside'), 4), (('ever', 'seen'), 4)]"
      ]
     },
     "execution_count": 15,
     "metadata": {},
     "output_type": "execute_result"
    }
   ],
   "source": [
    "def most_frequent_bigrams(sents, num):\n",
    "    bigrams = []\n",
    "    for sent in sents:\n",
    "        bigrams += list(nltk.bigrams(sent))\n",
    "    bigrams = [(w_1, w_2) for (w_1, w_2) in bigrams \n",
    "               if w_1.lower() not in stops_punct \n",
    "               and w_2.lower() not in stops_punct]\n",
    "    fdist = FreqDist(bigrams)\n",
    "    return fdist.most_common(num)\n",
    "\n",
    "most_frequent_bigrams(brown.sents(categories='fiction'), 50)"
   ]
  },
  {
   "cell_type": "markdown",
   "metadata": {},
   "source": [
    "Además de los stopwords he omitido también los signos de puntuación.  \n",
    "\n",
    "En vez de pasarle una lista de palabras a la función le paso una lista de oraciones, así se evita que se considere como bigram la combinación de la última y primera palabras de las frases adyacentes."
   ]
  },
  {
   "cell_type": "markdown",
   "metadata": {},
   "source": [
    "### Exercise 19"
   ]
  },
  {
   "cell_type": "markdown",
   "metadata": {},
   "source": [
    "Write a program to create a table of word frequencies by genre, like the one given in 1 for modals. Choose your own words and try to find words whose presence (or absence) is typical of a genre. Discuss your findings."
   ]
  },
  {
   "cell_type": "code",
   "execution_count": 16,
   "metadata": {},
   "outputs": [
    {
     "name": "stdout",
     "output_type": "stream",
     "text": [
      "                 can't cannot \n",
      "      adventure     22      1 \n",
      " belles_lettres     12     52 \n",
      "      editorial     12     32 \n",
      "        fiction     11      4 \n",
      "     government      2     12 \n",
      "        hobbies      7     23 \n",
      "          humor      7      5 \n",
      "        learned      2     56 \n",
      "           lore     14     23 \n",
      "        mystery     26      0 \n",
      "           news     15     15 \n",
      "       religion      0     22 \n",
      "        reviews      2      6 \n",
      "        romance     30      6 \n",
      "science_fiction      7      1 \n"
     ]
    }
   ],
   "source": [
    "my_words = [\"can't\", \"cannot\"]\n",
    "categories = brown.categories()\n",
    "\n",
    "cfd = ConditionalFreqDist(\n",
    "    (category, target)\n",
    "    for category in categories\n",
    "    for word in brown.words(categories=category)\n",
    "    for target in my_words\n",
    "    if word.lower() == target\n",
    ")\n",
    "\n",
    "cfd.tabulate()"
   ]
  },
  {
   "cell_type": "markdown",
   "metadata": {},
   "source": [
    "Hemos comparado el uso de \"can't\" y \"cannot\" en los texto de distintas categorías. Como era de esperar, \"can't\" es más presente que \"cannot\" en las cateogrías que corresponde a las novelas, ya que en éstas se imita mucho el lenguaje coloquial. En las noticias \"can't\" se usa con la misma frecuencia que \"cannot\", lo que se podría atribuir a la abundancia de citas directas en las noticias. En las demás categorías vemos una mayor frecuencia de \"cannot\".  "
   ]
  },
  {
   "cell_type": "markdown",
   "metadata": {},
   "source": [
    "### Exercise 20"
   ]
  },
  {
   "cell_type": "markdown",
   "metadata": {},
   "source": [
    "Write a function word_freq() that takes a word and the name of a section of the Brown Corpus as arguments, and computes the frequency of the word in that section of the corpus."
   ]
  },
  {
   "cell_type": "code",
   "execution_count": 17,
   "metadata": {},
   "outputs": [
    {
     "data": {
      "text/plain": [
       "131"
      ]
     },
     "execution_count": 17,
     "metadata": {},
     "output_type": "execute_result"
    }
   ],
   "source": [
    "def word_freq(word, section):\n",
    "    text = brown.words(categories=section)\n",
    "    text = [w.lower() for w in text]\n",
    "    fdist = FreqDist(text)\n",
    "    return fdist[word]\n",
    "\n",
    "word_freq('my', 'fiction')"
   ]
  },
  {
   "cell_type": "markdown",
   "metadata": {},
   "source": [
    "### Exercise 22"
   ]
  },
  {
   "cell_type": "markdown",
   "metadata": {},
   "source": [
    "Define a function hedge(text) which processes a text and produces a new version with the word 'like' between every third word."
   ]
  },
  {
   "cell_type": "code",
   "execution_count": 18,
   "metadata": {},
   "outputs": [
    {
     "data": {
      "text/plain": [
       "['Thirty-three', 'Scotty', 'did', 'like', 'not', 'go', 'back', 'like', 'to', 'school', '.', 'His', 'like', 'parents', 'talked', 'seriously', 'like', 'and', 'lengthily', 'to', 'like', 'their', 'own', 'doctor', 'like', 'and', 'to', 'a', 'like', 'specialist', 'at', 'the', 'like', 'University', 'Hospital', '--', 'Mr.', 'like', 'McKinley', 'was', 'entitled', 'like', 'to', 'a', 'discount', 'like', 'for', 'members', 'of', 'like', 'his', 'family', '--', 'and', 'like', 'it', 'was', 'decided', 'like', 'it', 'would', 'be', 'like', 'best', 'for', 'him', 'like', 'to', 'take', 'the']"
      ]
     },
     "execution_count": 18,
     "metadata": {},
     "output_type": "execute_result"
    }
   ],
   "source": [
    "def hedge(text):\n",
    "    new_text = []\n",
    "    order = 0\n",
    "    for word in text:\n",
    "        new_text.append(word)\n",
    "        order += 1\n",
    "        if order == 3:\n",
    "            if word not in punctuation:\n",
    "                new_text.append('like')\n",
    "                order = 0\n",
    "            else:\n",
    "                order = 2\n",
    "    return new_text\n",
    "\n",
    "hedge(brown.words(categories='fiction'))[:70]"
   ]
  },
  {
   "cell_type": "markdown",
   "metadata": {},
   "source": [
    "### Exercise 23"
   ]
  },
  {
   "cell_type": "markdown",
   "metadata": {},
   "source": [
    "Let f(w) be the frequency of a word w in free text. Suppose that all the words of a text are ranked according to their frequency, with the most frequent word first. Zipf's law states that the frequency of a word type is inversely proportional to its rank (i.e. f × r = k, for some constant k). For example, the 50th most common word type should occur three times as frequently as the 150th most common word type."
   ]
  },
  {
   "cell_type": "markdown",
   "metadata": {},
   "source": [
    "a. Write a function to process a large text and plot word frequency against word rank using pylab.plot. Do you confirm Zipf's law? (Hint: it helps to use a logarithmic scale). What is going on at the extreme ends of the plotted line?"
   ]
  },
  {
   "cell_type": "code",
   "execution_count": 19,
   "metadata": {},
   "outputs": [
    {
     "data": {
      "image/png": "[encoded data removed]",
      "text/plain": [
       "<matplotlib.figure.Figure object at 0x124b4d2e8>"
      ]
     },
     "metadata": {},
     "output_type": "display_data"
    }
   ],
   "source": [
    "def plot_rank_freq(text):\n",
    "    text = [w.lower() for w in text]\n",
    "    fdist = FreqDist(text)\n",
    "    word_freq = fdist.most_common()\n",
    "    ranks, freqs = list(), list()\n",
    "    for count, tupla in enumerate(word_freq):\n",
    "        ranks.append(count+1)\n",
    "        freqs.append(tupla[1])\n",
    "    pyplot.plot(ranks, freqs)\n",
    "    pyplot.title('Word rank against word frequency')\n",
    "    pyplot.xlabel('Rank')\n",
    "    pyplot.ylabel('Frequency')\n",
    "    pyplot.yscale('log')\n",
    "    pyplot.xscale('log')\n",
    "    pyplot.show()\n",
    "\n",
    "plot_rank_freq(brown.words())"
   ]
  },
  {
   "cell_type": "markdown",
   "metadata": {},
   "source": [
    "La ley de Zipf no funciona en los extremos. En un texto normal, es prácticamente imposible que el primer type más común sea 2 veces más frecuente que el segundo más común. En el otro extremo, el type número 25000 y el número 50000 y todos los que están entre ellos y los siguen tendrán una frecuencia de 1."
   ]
  },
  {
   "cell_type": "markdown",
   "metadata": {},
   "source": [
    "b. Generate random text, e.g., using random.choice(\"abcdefg \"), taking care to include the space character. You will need to import random first. Use the string concatenation operator to accumulate characters into a (very) long string. Then tokenize this string, and generate the Zipf plot as before, and compare the two plots. What do you make of Zipf's Law in the light of this?"
   ]
  },
  {
   "cell_type": "code",
   "execution_count": 20,
   "metadata": {},
   "outputs": [
    {
     "data": {
      "image/png": "[encoded data removed]",
      "text/plain": [
       "<matplotlib.figure.Figure object at 0x12a13aa90>"
      ]
     },
     "metadata": {},
     "output_type": "display_data"
    }
   ],
   "source": [
    "alpha_string = \"abcdefg \"\n",
    "random_string = str()\n",
    "for i in range(2000000):\n",
    "    random_string += random.choice(alpha_string)\n",
    "random_words = random_string.split()\n",
    "\n",
    "plot_rank_freq(random_words)\n",
    "    "
   ]
  },
  {
   "cell_type": "markdown",
   "metadata": {},
   "source": [
    "Este plot se desvía más aún de la ley de Zipf y no solo en los extremos. Creo que es debido a que las palabras de la misma longitud tienden a tener unas frecuencias muy similares. En una distribución sacada de un texto normal un type de dos letras puede darse 1 o 1000 veces, mientras que aquí eso no va a suceder. Por la misma razón, ciertas frecuencias simplemente nunca se van dar, de ahí este gráfico en \"escalones\". "
   ]
  },
  {
   "cell_type": "markdown",
   "metadata": {},
   "source": [
    "### Exercise 24"
   ]
  },
  {
   "cell_type": "markdown",
   "metadata": {},
   "source": [
    "Modify the text generation program in 2.2 further, to do the following tasks:"
   ]
  },
  {
   "cell_type": "markdown",
   "metadata": {},
   "source": [
    "a. Store the n most likely words in a list words then randomly choose a word from the list using random.choice(). (You will need to import random first.)  \n",
    "\n",
    "\n",
    "b. Select a particular genre, such as a section of the Brown Corpus, or a genesis translation, one of the Gutenberg texts, or one of the Web texts. Train the model on this corpus and get it to generate random text. You may have to experiment with different start words. How intelligible is the text? Discuss the strengths and weaknesses of this method of generating random text."
   ]
  },
  {
   "cell_type": "code",
   "execution_count": 21,
   "metadata": {},
   "outputs": [
    {
     "name": "stdout",
     "output_type": "stream",
     "text": [
      "fiction\n",
      "\n",
      "\n",
      "The word is the \n",
      "\n",
      "Choosing from 3 bigrams: the road and a man . `` You want to the same way . He had been in his head . The man to his face was a little girl , he had been sitting in his head . `` \n",
      "\n",
      "Choosing from 6 bigrams: the door of a moment the door of his head . She had not be , a few words many enchained demons straining in my arm , `` I am weary hound in a big house and a good , \n",
      "\n",
      "Choosing from 10 bigrams: the kitchen Mama announced another time to see her own . It could have had to do it for white working stiff figure in their places , but it with his body ; and then his head up to go \n",
      "\n",
      "Choosing from 15 bigrams: the hall and in all day He was a small parlor . I don't 'low nigras to see her mind doing it had left . They were , and that a little operetta '' in the hall he felt he \n",
      "\n",
      "Choosing from 40 bigrams: the kitchen bar was about when the old portraits in trouble and they approached the kitchen Mama Albright said anything that . You heard himself says Voltaire is full , and said flatly that looked so elaborately that moment she \n",
      "\n",
      "\n",
      "\n",
      "The word is orange \n",
      "\n",
      "Choosing from 3 bigrams: orange sauces and a man to his head , he could not a little . `` I don't know . The man , and the door and a man , the road and he could not be the same time \n",
      "\n",
      "Choosing from 6 bigrams: orange sauces and the hall seemed short distance of the old man who was to his face was in a few days '' -- and I have no idea '' ? The man , the old , and the door \n",
      "\n",
      "Choosing from 10 bigrams: orange sauces and he knew how this one . She didn't think , he was a big cities . I don't care '' . The men from the hall she saw a little songs , with their lives flourish . \n",
      "\n",
      "Choosing from 15 bigrams: orange sauces and the other guests up from the other places . There the church declared they heard other things like that the kitchen to have the first blow encountered silky hair down and was an old preacher like this \n",
      "\n",
      "Choosing from 40 bigrams: orange sauces and with my heart had the ground before sundown . It will wait until he heard horsemen on those golden days and went outside . Now what happened , her job right as The only imaginary , when \n",
      "\n",
      "\n",
      "\n",
      "\n",
      "\n",
      "news\n",
      "\n",
      "\n",
      "The word is the \n",
      "\n",
      "Choosing from 3 bigrams: the first time , the first of the first two of the first time . He said the state , and the United States' challenge '' , and the first two years ago , and a new churches in the \n",
      "\n",
      "Choosing from 6 bigrams: the U.S. and other defendants strongly indicated they have the United Nations of a new housing in which are expected to the first . A small boy , the same '' on a special session , a new president in \n",
      "\n",
      "Choosing from 10 bigrams: the `` a meeting of these two weeks visiting nurse services . He is the same for their feet normally begin at 8 a.m. to make a meeting produced strong advocate of his efforts in which had provided some quick \n",
      "\n",
      "Choosing from 15 bigrams: the American Friends Service . This has the state GOP opponents for their daughter of this would not merely to make it , he said . `` He would pay the other personal equation is now on a new record \n",
      "\n",
      "Choosing from 40 bigrams: the U.S. . ) . Miss Stella Hayward . Each dot on `` the same five counties -- George P. Geraghty ) , however no reason of New Delhi and an example , this could all motions made the ball \n",
      "\n",
      "\n",
      "\n",
      "The word is orange \n",
      "\n",
      "Choosing from 3 bigrams: orange tones predominating as a `` The President said . The President said the state . He said . `` The first time the state . He is a year . He was not only a year , the United \n",
      "\n",
      "Choosing from 6 bigrams: orange tones are to a new president , `` and Mrs. Richard Stafford , the state law which are a special elections . In this is that he said he said that it would not to the United Irish Counties \n",
      "\n",
      "Choosing from 10 bigrams: orange tones predominating as they go in a few cubic meter of a number and his wife has shown unusual characteristic for example : more to do or 2 ; Mrs. Frank S. Pfaff Jr. ; a little trouble '' \n",
      "\n",
      "Choosing from 15 bigrams: orange tones are the House voted with this . In this year had set to take place names known Dr. Clarence Cannon , as many Americans as to take them out to get money it and a group which it \n",
      "\n",
      "Choosing from 40 bigrams: orange tones predominating as soon anyway , which a result in an annual dinner hour delay was graduated together like on the U.S. coal seams in 1961 shot in Dallas Museum , including stopovers at one was off at your \n",
      "\n",
      "\n",
      "\n",
      "\n",
      "\n"
     ]
    }
   ],
   "source": [
    "def generate_model(cfdist, word, length, candidates_number):\n",
    "    for i in range(length):\n",
    "        print(word, end=' ')\n",
    "        candidates = [candidate for (candidate, frequency) in cfdist[word].most_common(candidates_number)]\n",
    "        word = random.choice(candidates)\n",
    "\n",
    "categories = ['fiction', 'news']\n",
    "candidates_nums = [3,6,10,15,40]\n",
    "words = ['the', 'orange']\n",
    "\n",
    "for category in categories:\n",
    "    bigrams = nltk.bigrams(brown.words(categories=category))\n",
    "    cfd = nltk.ConditionalFreqDist(bigrams)\n",
    "    print(category)\n",
    "    print('\\n')\n",
    "    for word in words:\n",
    "        print('The word is {}'.format(word), '\\n')\n",
    "        for cand_num in candidates_nums:\n",
    "            print('Choosing from {} bigrams:'.format(cand_num), end=' ')\n",
    "            try:\n",
    "                generate_model(cfd, word, 40, cand_num)\n",
    "            except IndexError:\n",
    "                print(\"No such word.\")\n",
    "                break\n",
    "            else:\n",
    "                print('\\n')\n",
    "        print('\\n') \n",
    "    print('\\n')            \n",
    "                "
   ]
  },
  {
   "cell_type": "markdown",
   "metadata": {},
   "source": [
    "Creo que la \"inteligibilidad\" del texto generado no cambia dependiendo del número de bigrams de los que se elige al azar la siguiente palabra, lo que sí cambia, obviamente, es la diversidad de las palabras utilizadas. \n",
    "\n",
    "También cuanto menos frecuente la palabra por la que empezamos (por ejemplo, \"orange\"), más probable que generemos unos resultados parecidos, al menos en la primera parte. "
   ]
  },
  {
   "cell_type": "markdown",
   "metadata": {
    "collapsed": true
   },
   "source": [
    "   ### Exercise 25"
   ]
  },
  {
   "cell_type": "markdown",
   "metadata": {},
   "source": [
    "Define a function find_language() that takes a string as its argument, and returns a list of languages that have that string as a word. Use the udhr corpus and limit your searches to files in the Latin-1 encoding."
   ]
  },
  {
   "cell_type": "code",
   "execution_count": 22,
   "metadata": {},
   "outputs": [
    {
     "data": {
      "text/plain": [
       "['English-Latin1', 'Interlingua-Latin1', 'NigerianPidginEnglish-Latin1', 'SolomonsPidgin_Pijin-Latin1', 'TokPisin-Latin1', 'Yao-Latin1']"
      ]
     },
     "execution_count": 22,
     "metadata": {},
     "output_type": "execute_result"
    }
   ],
   "source": [
    "f\n",
    "\n",
    "def find_language(word):\n",
    "    languages_with_word = [language for language in languages\n",
    "                          if word.lower() in [w.lower() for w in udhr.words(language)]]\n",
    "    return languages_with_word\n",
    "\n",
    "find_language('human')"
   ]
  },
  {
   "cell_type": "markdown",
   "metadata": {},
   "source": [
    "### Exercise 26"
   ]
  },
  {
   "cell_type": "markdown",
   "metadata": {},
   "source": [
    "What is the branching factor of the noun hypernym hierarchy? I.e. for every noun synset that has hyponyms — or children in the hypernym hierarchy — how many do they have on average? You can get all noun synsets using wn.all_synsets('n')."
   ]
  },
  {
   "cell_type": "code",
   "execution_count": 23,
   "metadata": {},
   "outputs": [
    {
     "data": {
      "text/plain": [
       "4.54"
      ]
     },
     "execution_count": 23,
     "metadata": {},
     "output_type": "execute_result"
    }
   ],
   "source": [
    "all_sets = list(wn.all_synsets('n'))\n",
    "total_hyponyms = 0\n",
    "sets_with_hyponyms = 0\n",
    "\n",
    "for sset in all_sets:\n",
    "    if sset.hyponyms():\n",
    "        total_hyponyms += len(sset.hyponyms())\n",
    "        sets_with_hyponyms += 1\n",
    "average_hyponyms = total_hyponyms / sets_with_hyponyms\n",
    "round(average_hyponyms, 2)\n"
   ]
  },
  {
   "cell_type": "markdown",
   "metadata": {},
   "source": [
    "### Exercise 27"
   ]
  },
  {
   "cell_type": "markdown",
   "metadata": {},
   "source": [
    "The polysemy of a word is the number of senses it has. Using WordNet, we can determine that the noun dog has 7 senses with: len(wn.synsets('dog', 'n')). Compute the average polysemy of nouns, verbs, adjectives and adverbs according to WordNet."
   ]
  },
  {
   "cell_type": "code",
   "execution_count": 24,
   "metadata": {},
   "outputs": [
    {
     "name": "stdout",
     "output_type": "stream",
     "text": [
      "n 1.28\n",
      "v 2.19\n",
      "a 1.41\n",
      "r 1.25\n"
     ]
    }
   ],
   "source": [
    "poses = ['n', 'v', 'a', 'r']\n",
    "\n",
    "for pos in poses:\n",
    "    all_sets = wn.all_synsets(pos)\n",
    "    words = [lemma.name() \n",
    "             for synset in list(all_sets) \n",
    "             for lemma in synset.lemmas()]\n",
    "    words = set(words)\n",
    "    synsets_number = 0\n",
    "    for word in words:\n",
    "        synsets_number += len(wn.synsets(word, pos))\n",
    "    average_synsets_number = synsets_number / len(words)\n",
    "    print(pos, round(average_synsets_number, 2))\n",
    "        "
   ]
  },
  {
   "cell_type": "markdown",
   "metadata": {},
   "source": [
    "### Exercise 28"
   ]
  },
  {
   "cell_type": "markdown",
   "metadata": {},
   "source": [
    "Use one of the predefined similarity measures to score the similarity of each of the following pairs of words. Rank the pairs in order of decreasing similarity. How close is your ranking to the order given here, an order that was established experimentally by (Miller & Charles, 1998): car-automobile, gem-jewel, journey-voyage, boy-lad, coast-shore, asylum-madhouse, magician-wizard, midday-noon, furnace-stove, food-fruit, bird-cock, bird-crane, tool-implement, brother-monk, lad-brother, crane-implement, journey-car, monk-oracle, cemetery-woodland, food-rooster, coast-hill, forest-graveyard, shore-woodland, monk-slave, coast-forest, lad-wizard, chord-smile, glass-magician, rooster-voyage, noon-string."
   ]
  },
  {
   "cell_type": "code",
   "execution_count": 25,
   "metadata": {},
   "outputs": [
    {
     "name": "stdout",
     "output_type": "stream",
     "text": [
      "Pair: ('car', 'automobile'). Score: 1.0\n",
      "\n",
      "Pair: ('gem', 'jewel'). Score: 1.0\n",
      "\n",
      "Pair: ('magician', 'wizard'). Score: 1.0\n",
      "\n",
      "Pair: ('midday', 'noon'). Score: 1.0\n",
      "\n",
      "Pair: ('journey', 'voyage'). Score: 0.5\n",
      "\n",
      "Pair: ('boy', 'lad'). Score: 0.5\n",
      "\n",
      "Pair: ('coast', 'shore'). Score: 0.5\n",
      "\n",
      "Pair: ('asylum', 'madhouse'). Score: 0.5\n",
      "\n",
      "Pair: ('bird', 'cock'). Score: 0.5\n",
      "\n",
      "Pair: ('tool', 'implement'). Score: 0.5\n",
      "\n",
      "Pair: ('brother', 'monk'). Score: 0.5\n",
      "\n",
      "Pair: ('bird', 'crane'). Score: 0.25\n",
      "\n",
      "Pair: ('lad', 'brother'). Score: 0.2\n",
      "\n",
      "Pair: ('crane', 'implement'). Score: 0.2\n",
      "\n",
      "Pair: ('coast', 'hill'). Score: 0.2\n",
      "\n",
      "Pair: ('shore', 'woodland'). Score: 0.2\n",
      "\n",
      "Pair: ('monk', 'slave'). Score: 0.2\n",
      "\n",
      "Pair: ('lad', 'wizard'). Score: 0.2\n",
      "\n",
      "Pair: ('coast', 'forest'). Score: 0.17\n",
      "\n",
      "Pair: ('monk', 'oracle'). Score: 0.12\n",
      "\n",
      "Pair: ('chord', 'smile'). Score: 0.12\n",
      "\n",
      "Pair: ('glass', 'magician'). Score: 0.12\n",
      "\n",
      "Pair: ('cemetery', 'woodland'). Score: 0.11\n",
      "\n",
      "Pair: ('forest', 'graveyard'). Score: 0.11\n",
      "\n",
      "Pair: ('furnace', 'stove'). Score: 0.1\n",
      "\n",
      "Pair: ('food', 'fruit'). Score: 0.1\n",
      "\n",
      "Pair: ('journey', 'car'). Score: 0.08\n",
      "\n",
      "Pair: ('noon', 'string'). Score: 0.08\n",
      "\n",
      "Pair: ('food', 'rooster'). Score: 0.06\n",
      "\n",
      "Pair: ('rooster', 'voyage'). Score: 0.04\n",
      "\n"
     ]
    }
   ],
   "source": [
    "pairs = [{'words': ('car', 'automobile')}, {'words': ('gem', 'jewel')}, {'words': ('journey', 'voyage')},\n",
    "         {'words': ('boy', 'lad')}, {'words': ('coast', 'shore')}, {'words': ('asylum', 'madhouse')}, \n",
    "         {'words': ('magician', 'wizard')}, {'words': ('midday', 'noon')}, {'words': ('furnace', 'stove')}, \n",
    "         {'words': ('food', 'fruit')}, {'words': ('bird', 'cock')}, {'words': ('bird', 'crane')}, \n",
    "         {'words': ('tool', 'implement')}, {'words': ('brother', 'monk')}, {'words': ('lad', 'brother')}, \n",
    "         {'words': ('crane', 'implement')}, {'words': ('journey', 'car')}, {'words': ('monk', 'oracle')}, \n",
    "         {'words': ('cemetery', 'woodland')}, {'words': ('food', 'rooster')}, {'words': ('coast', 'hill')}, \n",
    "         {'words': ('forest', 'graveyard')}, {'words': ('shore', 'woodland')}, {'words': ('monk', 'slave')},\n",
    "         {'words': ('coast', 'forest')}, {'words': ('lad', 'wizard')}, {'words': ('chord', 'smile')}, \n",
    "         {'words': ('glass', 'magician')}, {'words': ('rooster', 'voyage')}, {'words': ('noon', 'string')}]\n",
    "\n",
    "\n",
    "for pair in pairs:\n",
    "    # compare each word1 synset with each word2 synset\n",
    "    # and get the highest score\n",
    "    highest_score = 0\n",
    "    for synset1 in wn.synsets(pair['words'][0]):\n",
    "        for synset2 in wn.synsets(pair['words'][1]):\n",
    "            score = wn.path_similarity(synset1, synset2)\n",
    "            try:\n",
    "                if score > highest_score:\n",
    "                    highest_score = score\n",
    "            except TypeError:\n",
    "                continue\n",
    "    pair['score'] = round(highest_score, 2)\n",
    "\n",
    "sorted_by_score = sorted(pairs, key=lambda k: k['score'], reverse=True)\n",
    "\n",
    "for elm in sorted_by_score:\n",
    "    print(\"Pair: {}. Score: {}\\n\".format(elm['words'], elm['score']))"
   ]
  },
  {
   "cell_type": "markdown",
   "metadata": {},
   "source": [
    "La clasificación de Miller y Charles con los scores se puede ver por ejemplo [aquí](https://arxiv.org/ftp/arxiv/papers/1204/1204.0245.pdf).  \n",
    "\n",
    "El ranking generado por wordnet en general no se aparta mucho del de Miller y Charles, aunque hay excepciones: por ejemplo, para Miller y Charles la pareja 'lad-wizard' ocupa el quinto sitio desde el final, mientras que aquí está a la mitad del ranking con un score de 0.2."
   ]
  },
  {
   "cell_type": "markdown",
   "metadata": {},
   "source": [
    "## Extra exercise"
   ]
  },
  {
   "cell_type": "markdown",
   "metadata": {},
   "source": [
    "Hemos descubierto que el gráfico 1.2 del capítulo 2 no corresponde a la función que supuestamente lo genera. La función pretende \"to examine the differences in word lengths for a selection of languages included in the udhr corpus\" devuelve una distribución con valores absolutos, mientras en el gráfico del libro vemos unos porcentajes. Este es mi intento de modificar la función para poder generar un gráfico similar al del libro. Para simplificar las cosas solo he incluido dos lenguas en mi distribución."
   ]
  },
  {
   "cell_type": "code",
   "execution_count": 26,
   "metadata": {},
   "outputs": [
    {
     "data": {
      "image/png": "[encoded data removed]",
      "text/plain": [
       "<matplotlib.figure.Figure object at 0x131c9c550>"
      ]
     },
     "metadata": {},
     "output_type": "display_data"
    }
   ],
   "source": [
    "from copy import copy, deepcopy\n",
    "\n",
    "languages = ['Chickasaw', 'English']\n",
    "cfd = nltk.ConditionalFreqDist(\n",
    "      (lang, len(word))\n",
    "      for lang in languages\n",
    "      for word in udhr.words(lang + '-Latin1'))\n",
    "\n",
    "rel_cfd = deepcopy(cfd) # Creamos una copia de la distribución condicional\n",
    "\n",
    "# Creamos copias de cada una de las distribuciones de frecuencias\n",
    "rel_fd1 = copy(cfd['Chickasaw'])\n",
    "rel_fd2 = copy(cfd['English'])\n",
    "\n",
    "def fdist_per(fd, i=100):\n",
    "    \"\"\"In a frequency distribution, replace absolute frequencies\n",
    "    by relative frequencies per every i items.\n",
    "    \"\"\"\n",
    "    length = fd.N()\n",
    "    for key, value in fd.items():\n",
    "        fd[key] = round(value / length * i, 3)\n",
    "    return fd\n",
    "\n",
    "#sustituimos las distribuciones con valores absolutos por distribuciones con valores relativos\n",
    "rel_cfd['Chickasaw'] = fdist_per(rel_fd1)\n",
    "rel_cfd['English'] = fdist_per(rel_fd2)\n",
    "\n",
    "\n",
    "rel_cfd.plot(cumulative=True)"
   ]
  }
 ],
 "metadata": {
  "kernelspec": {
   "display_name": "Python 3",
   "language": "python",
   "name": "python3"
  },
  "language_info": {
   "codemirror_mode": {
    "name": "ipython",
    "version": 3
   },
   "file_extension": ".py",
   "mimetype": "text/x-python",
   "name": "python",
   "nbconvert_exporter": "python",
   "pygments_lexer": "ipython3",
   "version": "3.6.1"
  }
 },
 "nbformat": 4,
 "nbformat_minor": 2
}
